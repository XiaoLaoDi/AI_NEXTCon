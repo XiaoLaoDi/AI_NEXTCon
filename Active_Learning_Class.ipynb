{
 "cells": [
  {
   "cell_type": "markdown",
   "metadata": {},
   "source": [
    "# Active Learning Workshop: Beijing - Part I\n",
    "In this course we will run through a series of exercises that will illustrate how to use different variations of active learning. The goal in active learning it to train models that will use less data in a more intelligent way thereby resulting in increased accuracy.\n",
    "\n",
    "To get started make sure to download and unzip the [data](https://s3-us-west-1.amazonaws.com/figure-eight-dataset/active_learning_odsc_india/Active_Learning_Workshop_data.zip)"
   ]
  },
  {
   "cell_type": "code",
   "execution_count": 7,
   "metadata": {},
   "outputs": [],
   "source": [
    "# function to train classifier\n",
    "from __future__ import absolute_import\n",
    "from __future__ import division\n",
    "from __future__ import print_function\n",
    "\n",
    "import argparse\n",
    "import os.path\n",
    "import sys\n",
    "\n",
    "import tensorflow as tf\n",
    "\n",
    "EXPERIMENT_RESULTS = None\n",
    "\n",
    "TRAIN_FLAGS = {\n",
    "    'background_frequency':0.1,\n",
    "    'background_volume':0.1,\n",
    "    'batch_size':20,\n",
    "    'check_nans':False,\n",
    "    'clip_duration_ms':10000,\n",
    "    'data_dir':'', #/Users/kvajapey/Documents/CrowdFlower/Conferences/Beijing/workshop/data/gender_detection/training_data/supervised\n",
    "    'data_url':'',\n",
    "    'eval_step_interval':10,\n",
    "    'feature_bin_count':40,\n",
    "    'how_many_training_steps':'1,1',\n",
    "    'learning_rate':'0.001,0.0001',\n",
    "    'model_architecture':'conv',\n",
    "    'preprocess':'mfcc',\n",
    "    'quantize':False,\n",
    "    'sample_rate':48000,\n",
    "    'save_step_interval':10,\n",
    "    'silence_percentage':0,\n",
    "    'start_checkpoint':'',\n",
    "    'summaries_dir':'/tmp/retrain_logs',\n",
    "    'testing_percentage':5,\n",
    "    'time_shift_ms':100.0,\n",
    "    'train_dir':'/tmp/speech_commands_train',\n",
    "    'unknown_percentage':0,\n",
    "    'validation_percentage':5,\n",
    "    'wanted_words':'male,female',\n",
    "    'window_size_ms':30.0,\n",
    "    'window_stride_ms':10.0\n",
    "}\n",
    "\n",
    "FREEZE_FLAGS = {\n",
    "    'clip_duration_ms':10000,\n",
    "    'clip_stride_ms':30,\n",
    "    'feature_bin_count':40,\n",
    "    'model_architecture':'conv',\n",
    "    'output_file':'',       # frozen.pb\n",
    "    'preprocess':'mfcc',\n",
    "    'quantize':False,\n",
    "    'sample_rate':48000,\n",
    "    'start_checkpoint':'',  # /tmp/speech_commands_train/conv.ckpt-2\n",
    "    'wanted_words':'male,female',\n",
    "    'window_size_ms':30.0,\n",
    "    'window_stride_ms':10.0\n",
    "}\n",
    "\n",
    "INFERENCE_FLAGS = {\n",
    "    'wav_dir':'',      # /Users/kvajapey/Documents/CrowdFlower/Conferences/Beijing/workshop/data/gender_detection/female_test\n",
    "    'graph':'',        # /Users/kvajapey/Documents/CrowdFlower/repos/AI_NEXTCon/frozen.pb\n",
    "    'labels':'',       # /tmp/speech_commands_train/conv_labels.txt\n",
    "    'input_name': 'wav_data:0',\n",
    "    'output_name': 'labels_softmax:0',\n",
    "    'how_many_labels': 2\n",
    "}\n"
   ]
  },
  {
   "cell_type": "code",
   "execution_count": 15,
   "metadata": {},
   "outputs": [],
   "source": [
    "from speech_commands import train\n",
    "from speech_commands import freeze\n",
    "from speech_commands import label_wav_dir\n",
    "\n",
    "def train_model(_):\n",
    "    train.main(TRAIN_FLAGS)\n",
    "\n",
    "def run_training(directory):\n",
    "    if not directory:\n",
    "        return \"Please input directory with training folders\"\n",
    "    TRAIN_FLAGS['data_dir'] = directory\n",
    "    tf.app.run(main=train_model, argv=['train.py'])\n",
    "\n",
    "def freeze_model(_):\n",
    "    freeze.main(FREEZE_FLAGS)\n",
    "\n",
    "def run_freeze(checkpoint, model_out):\n",
    "    if not checkpoint or not model_out:\n",
    "        return \"Please input the checkpoint to freeze and the name of the output model\"\n",
    "    FREEZE_FLAGS['start_checkpoint'] = checkpoint\n",
    "    FREEZE_FLAGS['output_file'] = model_out\n",
    "    tf.app.run(main=freeze_model, argv=['freeze.py'])\n",
    "\n",
    "def inference_model(_):\n",
    "    global EXPERIMENT_RESULTS\n",
    "    EXPERIMENT_RESULTS = label_wav_dir.main(INFERENCE_FLAGS)\n",
    "\n",
    "def run_inference(directory, model, labels):\n",
    "    if not directory:\n",
    "        return \"Please input the directory with wav files\"\n",
    "    if not model:\n",
    "        return \"Please input the model for inference\"\n",
    "    if not labels:\n",
    "        return \"Please input the file with labels\"\n",
    "    INFERENCE_FLAGS['wav_dir'] = directory\n",
    "    INFERENCE_FLAGS['graph'] = model\n",
    "    INFERENCE_FLAGS['labels'] = labels\n",
    "    print(INFERENCE_FLAGS)\n",
    "    tf.app.run(main=inference_model, argv=['label_wav_dir.py'])\n",
    "    "
   ]
  },
  {
   "cell_type": "code",
   "execution_count": 8,
   "metadata": {},
   "outputs": [
    {
     "name": "stdout",
     "output_type": "stream",
     "text": [
      "INFO:tensorflow:Training from step: 1 \n",
      "INFO:tensorflow:Step #1: rate 0.001000, accuracy 20.0%, cross entropy 1.725219\n",
      "INFO:tensorflow:Step #2: rate 0.000100, accuracy 55.0%, cross entropy 0.975425\n",
      "INFO:tensorflow:Confusion Matrix:\n",
      " [[ 0  0  0  0]\n",
      " [ 0  0  0  0]\n",
      " [ 0  0 28  7]\n",
      " [ 0  0 37  5]]\n",
      "INFO:tensorflow:Step 2: Validation accuracy = 42.9% (N=77)\n",
      "INFO:tensorflow:Saving to \"/tmp/speech_commands_train/conv.ckpt-2\"\n",
      "INFO:tensorflow:set_size=87\n",
      "INFO:tensorflow:Confusion Matrix:\n",
      " [[ 0  0  0  0]\n",
      " [ 0  0  0  0]\n",
      " [ 0  0 40  5]\n",
      " [ 0  0 34  8]]\n",
      "INFO:tensorflow:Final test accuracy = 55.2% (N=87)\n"
     ]
    },
    {
     "ename": "SystemExit",
     "evalue": "",
     "output_type": "error",
     "traceback": [
      "An exception has occurred, use %tb to see the full traceback.\n",
      "\u001b[0;31mSystemExit\u001b[0m\n"
     ]
    },
    {
     "name": "stderr",
     "output_type": "stream",
     "text": [
      "/Users/kvajapey/miniconda3/lib/python3.6/site-packages/IPython/core/interactiveshell.py:2971: UserWarning: To exit: use 'exit', 'quit', or Ctrl-D.\n",
      "  warn(\"To exit: use 'exit', 'quit', or Ctrl-D.\", stacklevel=1)\n"
     ]
    }
   ],
   "source": [
    "\n",
    "# run training of the model\n",
    "run_training('/Users/kvajapey/Documents/CrowdFlower/Conferences/Beijing/workshop/data/gender_detection/training_data/supervised')"
   ]
  },
  {
   "cell_type": "code",
   "execution_count": 9,
   "metadata": {},
   "outputs": [
    {
     "name": "stdout",
     "output_type": "stream",
     "text": [
      "{'clip_duration_ms': 10000, 'clip_stride_ms': 30, 'feature_bin_count': 40, 'model_architecture': 'conv', 'output_file': 'supervised.pb', 'preprocess': 'mfcc', 'quantize': False, 'sample_rate': 48000, 'start_checkpoint': '/tmp/speech_commands_train/conv.ckpt-2', 'wanted_words': 'male,female', 'window_size_ms': 30.0, 'window_stride_ms': 10.0}\n",
      "INFO:tensorflow:Restoring parameters from /tmp/speech_commands_train/conv.ckpt-2\n",
      "INFO:tensorflow:Froze 6 variables.\n",
      "Converted 6 variables to const ops.\n",
      "INFO:tensorflow:Saved frozen graph to supervised.pb\n"
     ]
    },
    {
     "ename": "SystemExit",
     "evalue": "",
     "output_type": "error",
     "traceback": [
      "An exception has occurred, use %tb to see the full traceback.\n",
      "\u001b[0;31mSystemExit\u001b[0m\n"
     ]
    },
    {
     "name": "stderr",
     "output_type": "stream",
     "text": [
      "/Users/kvajapey/miniconda3/lib/python3.6/site-packages/IPython/core/interactiveshell.py:2971: UserWarning: To exit: use 'exit', 'quit', or Ctrl-D.\n",
      "  warn(\"To exit: use 'exit', 'quit', or Ctrl-D.\", stacklevel=1)\n"
     ]
    }
   ],
   "source": [
    "# freeze the model\n",
    "run_freeze('/tmp/speech_commands_train/conv.ckpt-2', 'supervised.pb')"
   ]
  },
  {
   "cell_type": "code",
   "execution_count": 18,
   "metadata": {
    "scrolled": false
   },
   "outputs": [
    {
     "name": "stdout",
     "output_type": "stream",
     "text": [
      "{'wav_dir': '/Users/kvajapey/Documents/CrowdFlower/Conferences/Beijing/workshop/data/gender_detection/male_test', 'graph': 'supervised.pb', 'labels': '/tmp/speech_commands_train/conv_labels.txt', 'input_name': 'wav_data:0', 'output_name': 'labels_softmax:0', 'how_many_labels': 2}\n"
     ]
    },
    {
     "ename": "SystemExit",
     "evalue": "",
     "output_type": "error",
     "traceback": [
      "An exception has occurred, use %tb to see the full traceback.\n",
      "\u001b[0;31mSystemExit\u001b[0m\n"
     ]
    },
    {
     "name": "stderr",
     "output_type": "stream",
     "text": [
      "/Users/kvajapey/miniconda3/lib/python3.6/site-packages/IPython/core/interactiveshell.py:2971: UserWarning: To exit: use 'exit', 'quit', or Ctrl-D.\n",
      "  warn(\"To exit: use 'exit', 'quit', or Ctrl-D.\", stacklevel=1)\n"
     ]
    }
   ],
   "source": [
    "# run inferences\n",
    "run_inference('/Users/kvajapey/Documents/CrowdFlower/Conferences/Beijing/workshop/data/gender_detection/male_test', 'supervised.pb', '/tmp/speech_commands_train/conv_labels.txt')"
   ]
  },
  {
   "cell_type": "code",
   "execution_count": 19,
   "metadata": {},
   "outputs": [
    {
     "name": "stdout",
     "output_type": "stream",
     "text": [
      "male: 0.835\n",
      "female: 0.165\n"
     ]
    }
   ],
   "source": [
    "total = 0\n",
    "male = 0\n",
    "female = 0\n",
    "for r in EXPERIMENT_RESULTS:\n",
    "    total += 1\n",
    "    if 'male' in r and 'female' in r:\n",
    "        if r['male'] > r['female']:\n",
    "            male += 1\n",
    "        else:\n",
    "            female += 1\n",
    "    else:\n",
    "        if 'male' in r:\n",
    "            male += 1\n",
    "        elif 'female' in r:\n",
    "            female += 1\n",
    "\n",
    "print('male: ' + str(male/total))\n",
    "print('female: ' + str(female/total))\n"
   ]
  },
  {
   "cell_type": "markdown",
   "metadata": {},
   "source": [
    "## Initialize Dataframes\n",
    "The code below will initialize the dataframes that will store the experimental data used through the course. Make sure to only initialize this frame ONCE.\n",
    "\n",
    "Each dataframe will store the checkpoints made while building the classifier. With these dataframes we will be able to plot the progress of our classifier and see how the accuracy changes over time.\n",
    "\n",
    "`\n",
    "Code here\n",
    "`"
   ]
  },
  {
   "cell_type": "code",
   "execution_count": 2,
   "metadata": {},
   "outputs": [],
   "source": [
    "classifier_stats = {\n",
    "    'c0' : [],\n",
    "    'c1' : [],\n",
    "    'c2' : [],\n",
    "    'c3' : [],\n",
    "}"
   ]
  },
  {
   "cell_type": "code",
   "execution_count": 3,
   "metadata": {},
   "outputs": [],
   "source": [
    "\"\"\"\n",
    "Helper functions for Active Learning Workshop\n",
    "\"\"\"\n",
    "\n",
    "\"\"\"\n",
    "function: choose_images(n)\n",
    "n (int): number of images to get\n",
    "description: function to select random images from the set of \"unlabeled\" images\n",
    "\"\"\"\n",
    "def choose_images(n):\n",
    "    images = os.listdir(IMAGE_DIRECTORY)\n",
    "    return random.sample(images, n)\n",
    "\n",
    "\"\"\"\n",
    "function: run_inferences(images)\n",
    "images (list): list of names of images that live in the IMAGE_DIRECTORY\n",
    "directory (constant): TEST_IMAGES_DIRECTORY or IMAGE_DIRECTORY\n",
    "watson_classifier (constant): WATSON_CLASSIFIER_ID_<number>\n",
    "description: function to run inferences through Watson on the provided images\n",
    "\"\"\"\n",
    "def run_inferences(images, directory, watson_classifier):\n",
    "    results = {}\n",
    "    print(\"Running inferences for classifier \" + watson_classifier + \"...\")\n",
    "    for image in images:\n",
    "        img = open(directory + image, 'rb')\n",
    "        print('Running inference for ' + image)\n",
    "        inference = visual_recognition.classify(\n",
    "            images_file=img,\n",
    "            classifier_ids=[watson_classifier])\n",
    "            #threshold=0.0)\n",
    "        print(inference)\n",
    "        predicted_class = inference['images'][0]['classifiers'][0]['classes'][0]['class']\n",
    "        confidence = inference['images'][0]['classifiers'][0]['classes'][0]['score']\n",
    "        results[image] = {'predicted_class':predicted_class, 'confidence':confidence}\n",
    "    return results\n",
    "\n",
    "\"\"\"\n",
    "function: label_images_with_ground_truth(images)\n",
    "images (list): list of names of images that live in the IMAGE_DIRECTORY\n",
    "description: use the ground truth label to add images into the correct category\n",
    "\n",
    "return: lists with low, medium, and high quality image sets\n",
    "\n",
    "**NOTE: Ground truth labels from a crowd can be wrong and will not always provide the optimal data\n",
    "\"\"\"\n",
    "def label_images_with_ground_truth(images):\n",
    "    lq = []\n",
    "    mq = []\n",
    "    hq = []\n",
    "    for image in images:\n",
    "        gt = int(image.split('_')[0])\n",
    "        if gt < 3:\n",
    "            lq.append(image)\n",
    "        elif gt == 3:\n",
    "            mq.append(image)\n",
    "        else:\n",
    "            hq.append(image)\n",
    "    \n",
    "    return {'low_quality':lq, 'medium_quality':mq, 'high_quality':hq}\n",
    "\n",
    "\"\"\"\n",
    "function: compare_with_ground_truth\n",
    "image: name of image (this has the ground truth)\n",
    "prediction: predicted class label\n",
    "\n",
    "return: True if matching, else false\n",
    "\"\"\"\n",
    "def compare_with_ground_truth(image, prediction):\n",
    "    gt = int(image.split('_')[0])\n",
    "    label = ''\n",
    "    if gt < 3:\n",
    "        label = 'low_quality'\n",
    "    elif gt == 3:\n",
    "        label = 'medium_quality'\n",
    "    else:\n",
    "        label = 'high_quality'\n",
    "    \n",
    "    if label == prediction:\n",
    "        return True\n",
    "    return False\n",
    "\n",
    "\"\"\"\n",
    "function: create_zip(images, label)\n",
    "images (list): list of names of images that live in the IMAGE_DIRECTORY\n",
    "label (str): name of zip file\n",
    "description: function to create a zip file that will be used to upload to Watson classifier\n",
    "\"\"\"\n",
    "def create_zip(images, label):\n",
    "    zip_name = label + '_' + str(int(time.time())) + '.zip'\n",
    "    z = zipfile.ZipFile(zip_name, 'w')\n",
    "    for image in images:\n",
    "        img = open(IMAGE_DIRECTORY + image, 'rb')\n",
    "        z.write(IMAGE_DIRECTORY + image)\n",
    "    return zip_name\n",
    "\n",
    "\"\"\"\n",
    "function: test_accuracy\n",
    "classifier_name (string): c0, c1, c2, c3\n",
    "watson_classifier (constant): WATSON_CLASSIFIER_ID_<number>\n",
    "description: run a test of 100 images and compare with ground truth\n",
    "        to compute the accuracy of the classifier\n",
    "\"\"\"\n",
    "def test_classifier(classifier_name, watson_classifier):\n",
    "    images = os.listdir(TEST_IMAGES_DIRECTORY)\n",
    "    results = run_inferences(images, TEST_IMAGES_DIRECTORY, watson_classifier)\n",
    "    comparisons = []\n",
    "    for image in results:\n",
    "        prediction = results[image]['predicted_class']\n",
    "        check = compare_with_ground_truth(image, prediction)\n",
    "        if check:\n",
    "            comparisons.append(1)\n",
    "        else:\n",
    "            comparisons.append(0)\n",
    "    correct = sum(comparisons)\n",
    "    accuracy = correct/len(comparisons)\n",
    "    print('Accuracy: ' + str(accuracy))\n",
    "    classifier_stats[classifier_name].append(accuracy)\n",
    "\n",
    "\"\"\"\n",
    "function plot_confience(inferences)\n",
    "inferences (dictionary): the output of run_inferences\n",
    "\"\"\"\n",
    "def plot_confidence(inferences):\n",
    "    pass\n"
   ]
  },
  {
   "cell_type": "code",
   "execution_count": null,
   "metadata": {},
   "outputs": [],
   "source": [
    "# Function to train classifier\n"
   ]
  },
  {
   "cell_type": "markdown",
   "metadata": {},
   "source": [
    "# Exercise 0: Supervised Learning\n",
    "In the exercise we will use basic supervised learning to update the classifier. This works by selecting a random set of data, labeling that data, and using that to train each class of the classifier.\n",
    "\n",
    "First, we will test the new classifier that we created. Once we have a baseline accuracy we will use the `supervised_learning()` function to get new batches of data for each class in the form of .zip files which we will use to update each class of the Watson classifier.\n",
    "\n",
    "Use the function below to automatically select random data, get the labels, and create the zip files required to add to each class of the Watson classifier."
   ]
  },
  {
   "cell_type": "code",
   "execution_count": 5,
   "metadata": {},
   "outputs": [
    {
     "name": "stdout",
     "output_type": "stream",
     "text": [
      "Running inferences for classifier quality_detector_1_1645158165...\n",
      "Running inference for 1_70.jpg\n"
     ]
    },
    {
     "ename": "WatsonApiException",
     "evalue": "Error: Provided API key could not be found, Code: 400",
     "output_type": "error",
     "traceback": [
      "\u001b[0;31m---------------------------------------------------------------------------\u001b[0m",
      "\u001b[0;31mWatsonApiException\u001b[0m                        Traceback (most recent call last)",
      "\u001b[0;32m<ipython-input-5-e1fe1faaa56c>\u001b[0m in \u001b[0;36m<module>\u001b[0;34m()\u001b[0m\n\u001b[1;32m      2\u001b[0m \u001b[0mUse\u001b[0m \u001b[0mthis\u001b[0m \u001b[0mcell\u001b[0m \u001b[0mto\u001b[0m \u001b[0mrun\u001b[0m \u001b[0mthe\u001b[0m \u001b[0mpreliminary\u001b[0m \u001b[0mtest\u001b[0m \u001b[0;32mand\u001b[0m \u001b[0mcalculate\u001b[0m \u001b[0mthe\u001b[0m \u001b[0mbaseline\u001b[0m \u001b[0maccuracy\u001b[0m \u001b[0mof\u001b[0m \u001b[0mthe\u001b[0m \u001b[0mnewly\u001b[0m \u001b[0mcreated\u001b[0m \u001b[0mclassifer\u001b[0m\u001b[0;34m\u001b[0m\u001b[0m\n\u001b[1;32m      3\u001b[0m \"\"\"\n\u001b[0;32m----> 4\u001b[0;31m \u001b[0mtest_classifier\u001b[0m\u001b[0;34m(\u001b[0m\u001b[0;34m'c0'\u001b[0m\u001b[0;34m,\u001b[0m \u001b[0mWATSON_CLASSIFIER_ID_1\u001b[0m\u001b[0;34m)\u001b[0m\u001b[0;34m\u001b[0m\u001b[0m\n\u001b[0m\u001b[1;32m      5\u001b[0m \u001b[0mplt\u001b[0m\u001b[0;34m.\u001b[0m\u001b[0mplot\u001b[0m\u001b[0;34m(\u001b[0m\u001b[0mclassifier_stats\u001b[0m\u001b[0;34m[\u001b[0m\u001b[0;34m'c0'\u001b[0m\u001b[0;34m]\u001b[0m\u001b[0;34m,\u001b[0m \u001b[0;34m'ro'\u001b[0m\u001b[0;34m)\u001b[0m\u001b[0;34m\u001b[0m\u001b[0m\n\u001b[1;32m      6\u001b[0m \u001b[0mplt\u001b[0m\u001b[0;34m.\u001b[0m\u001b[0mshow\u001b[0m\u001b[0;34m(\u001b[0m\u001b[0;34m)\u001b[0m\u001b[0;34m\u001b[0m\u001b[0m\n",
      "\u001b[0;32m<ipython-input-3-9530683f2ed9>\u001b[0m in \u001b[0;36mtest_classifier\u001b[0;34m(classifier_name, watson_classifier)\u001b[0m\n\u001b[1;32m    103\u001b[0m \u001b[0;32mdef\u001b[0m \u001b[0mtest_classifier\u001b[0m\u001b[0;34m(\u001b[0m\u001b[0mclassifier_name\u001b[0m\u001b[0;34m,\u001b[0m \u001b[0mwatson_classifier\u001b[0m\u001b[0;34m)\u001b[0m\u001b[0;34m:\u001b[0m\u001b[0;34m\u001b[0m\u001b[0m\n\u001b[1;32m    104\u001b[0m     \u001b[0mimages\u001b[0m \u001b[0;34m=\u001b[0m \u001b[0mos\u001b[0m\u001b[0;34m.\u001b[0m\u001b[0mlistdir\u001b[0m\u001b[0;34m(\u001b[0m\u001b[0mTEST_IMAGES_DIRECTORY\u001b[0m\u001b[0;34m)\u001b[0m\u001b[0;34m\u001b[0m\u001b[0m\n\u001b[0;32m--> 105\u001b[0;31m     \u001b[0mresults\u001b[0m \u001b[0;34m=\u001b[0m \u001b[0mrun_inferences\u001b[0m\u001b[0;34m(\u001b[0m\u001b[0mimages\u001b[0m\u001b[0;34m,\u001b[0m \u001b[0mTEST_IMAGES_DIRECTORY\u001b[0m\u001b[0;34m,\u001b[0m \u001b[0mwatson_classifier\u001b[0m\u001b[0;34m)\u001b[0m\u001b[0;34m\u001b[0m\u001b[0m\n\u001b[0m\u001b[1;32m    106\u001b[0m     \u001b[0mcomparisons\u001b[0m \u001b[0;34m=\u001b[0m \u001b[0;34m[\u001b[0m\u001b[0;34m]\u001b[0m\u001b[0;34m\u001b[0m\u001b[0m\n\u001b[1;32m    107\u001b[0m     \u001b[0;32mfor\u001b[0m \u001b[0mimage\u001b[0m \u001b[0;32min\u001b[0m \u001b[0mresults\u001b[0m\u001b[0;34m:\u001b[0m\u001b[0;34m\u001b[0m\u001b[0m\n",
      "\u001b[0;32m<ipython-input-3-9530683f2ed9>\u001b[0m in \u001b[0;36mrun_inferences\u001b[0;34m(images, directory, watson_classifier)\u001b[0m\n\u001b[1;32m     27\u001b[0m         inference = visual_recognition.classify(\n\u001b[1;32m     28\u001b[0m             \u001b[0mimages_file\u001b[0m\u001b[0;34m=\u001b[0m\u001b[0mimg\u001b[0m\u001b[0;34m,\u001b[0m\u001b[0;34m\u001b[0m\u001b[0m\n\u001b[0;32m---> 29\u001b[0;31m             classifier_ids=[watson_classifier])\n\u001b[0m\u001b[1;32m     30\u001b[0m             \u001b[0;31m#threshold=0.0)\u001b[0m\u001b[0;34m\u001b[0m\u001b[0;34m\u001b[0m\u001b[0m\n\u001b[1;32m     31\u001b[0m         \u001b[0mprint\u001b[0m\u001b[0;34m(\u001b[0m\u001b[0minference\u001b[0m\u001b[0;34m)\u001b[0m\u001b[0;34m\u001b[0m\u001b[0m\n",
      "\u001b[0;32m~/miniconda3/lib/python3.6/site-packages/watson_developer_cloud/visual_recognition_v3.py\u001b[0m in \u001b[0;36mclassify\u001b[0;34m(self, images_file, parameters, accept_language, images_file_content_type, images_filename, url, threshold, owners, classifier_ids, **kwargs)\u001b[0m\n\u001b[1;32m    167\u001b[0m                 \u001b[0;34m'classifier_ids'\u001b[0m\u001b[0;34m:\u001b[0m \u001b[0mclassifier_ids_tuple\u001b[0m\u001b[0;34m\u001b[0m\u001b[0m\n\u001b[1;32m    168\u001b[0m             },\n\u001b[0;32m--> 169\u001b[0;31m             accept_json=True)\n\u001b[0m\u001b[1;32m    170\u001b[0m         \u001b[0;32mreturn\u001b[0m \u001b[0mresponse\u001b[0m\u001b[0;34m\u001b[0m\u001b[0m\n\u001b[1;32m    171\u001b[0m \u001b[0;34m\u001b[0m\u001b[0m\n",
      "\u001b[0;32m~/miniconda3/lib/python3.6/site-packages/watson_developer_cloud/watson_service.py\u001b[0m in \u001b[0;36mrequest\u001b[0;34m(self, method, url, accept_json, headers, params, json, data, files, **kwargs)\u001b[0m\n\u001b[1;32m    421\u001b[0m         \u001b[0mauth\u001b[0m \u001b[0;34m=\u001b[0m \u001b[0;32mNone\u001b[0m\u001b[0;34m\u001b[0m\u001b[0m\n\u001b[1;32m    422\u001b[0m         \u001b[0;32mif\u001b[0m \u001b[0mself\u001b[0m\u001b[0;34m.\u001b[0m\u001b[0mtoken_manager\u001b[0m\u001b[0;34m:\u001b[0m\u001b[0;34m\u001b[0m\u001b[0m\n\u001b[0;32m--> 423\u001b[0;31m             \u001b[0maccess_token\u001b[0m \u001b[0;34m=\u001b[0m \u001b[0mself\u001b[0m\u001b[0;34m.\u001b[0m\u001b[0mtoken_manager\u001b[0m\u001b[0;34m.\u001b[0m\u001b[0mget_token\u001b[0m\u001b[0;34m(\u001b[0m\u001b[0;34m)\u001b[0m\u001b[0;34m\u001b[0m\u001b[0m\n\u001b[0m\u001b[1;32m    424\u001b[0m             \u001b[0mheaders\u001b[0m\u001b[0;34m[\u001b[0m\u001b[0;34m'Authorization'\u001b[0m\u001b[0;34m]\u001b[0m \u001b[0;34m=\u001b[0m \u001b[0;34m'{0} {1}'\u001b[0m\u001b[0;34m.\u001b[0m\u001b[0mformat\u001b[0m\u001b[0;34m(\u001b[0m\u001b[0mBEARER\u001b[0m\u001b[0;34m,\u001b[0m \u001b[0maccess_token\u001b[0m\u001b[0;34m)\u001b[0m\u001b[0;34m\u001b[0m\u001b[0m\n\u001b[1;32m    425\u001b[0m         \u001b[0;32mif\u001b[0m \u001b[0mself\u001b[0m\u001b[0;34m.\u001b[0m\u001b[0musername\u001b[0m \u001b[0;32mand\u001b[0m \u001b[0mself\u001b[0m\u001b[0;34m.\u001b[0m\u001b[0mpassword\u001b[0m\u001b[0;34m:\u001b[0m\u001b[0;34m\u001b[0m\u001b[0m\n",
      "\u001b[0;32m~/miniconda3/lib/python3.6/site-packages/watson_developer_cloud/iam_token_manager.py\u001b[0m in \u001b[0;36mget_token\u001b[0;34m(self)\u001b[0m\n\u001b[1;32m     45\u001b[0m             \u001b[0;32mreturn\u001b[0m \u001b[0mself\u001b[0m\u001b[0;34m.\u001b[0m\u001b[0muser_access_token\u001b[0m\u001b[0;34m\u001b[0m\u001b[0m\n\u001b[1;32m     46\u001b[0m         \u001b[0;32melif\u001b[0m \u001b[0;32mnot\u001b[0m \u001b[0mself\u001b[0m\u001b[0;34m.\u001b[0m\u001b[0mtoken_info\u001b[0m\u001b[0;34m.\u001b[0m\u001b[0mget\u001b[0m\u001b[0;34m(\u001b[0m\u001b[0;34m'access_token'\u001b[0m\u001b[0;34m)\u001b[0m\u001b[0;34m:\u001b[0m\u001b[0;34m\u001b[0m\u001b[0m\n\u001b[0;32m---> 47\u001b[0;31m             \u001b[0mtoken_info\u001b[0m \u001b[0;34m=\u001b[0m \u001b[0mself\u001b[0m\u001b[0;34m.\u001b[0m\u001b[0m_request_token\u001b[0m\u001b[0;34m(\u001b[0m\u001b[0;34m)\u001b[0m\u001b[0;34m\u001b[0m\u001b[0m\n\u001b[0m\u001b[1;32m     48\u001b[0m             \u001b[0mself\u001b[0m\u001b[0;34m.\u001b[0m\u001b[0m_save_token_info\u001b[0m\u001b[0;34m(\u001b[0m\u001b[0mtoken_info\u001b[0m\u001b[0;34m)\u001b[0m\u001b[0;34m\u001b[0m\u001b[0m\n\u001b[1;32m     49\u001b[0m             \u001b[0;32mreturn\u001b[0m \u001b[0mself\u001b[0m\u001b[0;34m.\u001b[0m\u001b[0mtoken_info\u001b[0m\u001b[0;34m.\u001b[0m\u001b[0mget\u001b[0m\u001b[0;34m(\u001b[0m\u001b[0;34m'access_token'\u001b[0m\u001b[0;34m)\u001b[0m\u001b[0;34m\u001b[0m\u001b[0m\n",
      "\u001b[0;32m~/miniconda3/lib/python3.6/site-packages/watson_developer_cloud/iam_token_manager.py\u001b[0m in \u001b[0;36m_request_token\u001b[0;34m(self)\u001b[0m\n\u001b[1;32m     76\u001b[0m             \u001b[0murl\u001b[0m\u001b[0;34m=\u001b[0m\u001b[0mself\u001b[0m\u001b[0;34m.\u001b[0m\u001b[0miam_url\u001b[0m\u001b[0;34m,\u001b[0m\u001b[0;34m\u001b[0m\u001b[0m\n\u001b[1;32m     77\u001b[0m             \u001b[0mheaders\u001b[0m\u001b[0;34m=\u001b[0m\u001b[0mheaders\u001b[0m\u001b[0;34m,\u001b[0m\u001b[0;34m\u001b[0m\u001b[0m\n\u001b[0;32m---> 78\u001b[0;31m             data=data)\n\u001b[0m\u001b[1;32m     79\u001b[0m         \u001b[0;32mreturn\u001b[0m \u001b[0mresponse\u001b[0m\u001b[0;34m\u001b[0m\u001b[0m\n\u001b[1;32m     80\u001b[0m \u001b[0;34m\u001b[0m\u001b[0m\n",
      "\u001b[0;32m~/miniconda3/lib/python3.6/site-packages/watson_developer_cloud/iam_token_manager.py\u001b[0m in \u001b[0;36mrequest\u001b[0;34m(self, method, url, headers, params, data, **kwargs)\u001b[0m\n\u001b[1;32m     32\u001b[0m             \u001b[0;32mfrom\u001b[0m \u001b[0;34m.\u001b[0m\u001b[0mwatson_service\u001b[0m \u001b[0;32mimport\u001b[0m \u001b[0mWatsonApiException\u001b[0m\u001b[0;34m,\u001b[0m \u001b[0mget_error_message\u001b[0m\u001b[0;34m\u001b[0m\u001b[0m\n\u001b[1;32m     33\u001b[0m             \u001b[0merror_message\u001b[0m \u001b[0;34m=\u001b[0m \u001b[0mget_error_message\u001b[0m\u001b[0;34m(\u001b[0m\u001b[0mresponse\u001b[0m\u001b[0;34m)\u001b[0m\u001b[0;34m\u001b[0m\u001b[0m\n\u001b[0;32m---> 34\u001b[0;31m             \u001b[0;32mraise\u001b[0m \u001b[0mWatsonApiException\u001b[0m\u001b[0;34m(\u001b[0m\u001b[0mresponse\u001b[0m\u001b[0;34m.\u001b[0m\u001b[0mstatus_code\u001b[0m\u001b[0;34m,\u001b[0m \u001b[0mmessage\u001b[0m\u001b[0;34m=\u001b[0m\u001b[0merror_message\u001b[0m\u001b[0;34m,\u001b[0m \u001b[0mhttpResponse\u001b[0m\u001b[0;34m=\u001b[0m\u001b[0mresponse\u001b[0m\u001b[0;34m)\u001b[0m\u001b[0;34m\u001b[0m\u001b[0m\n\u001b[0m\u001b[1;32m     35\u001b[0m \u001b[0;34m\u001b[0m\u001b[0m\n\u001b[1;32m     36\u001b[0m     \u001b[0;32mdef\u001b[0m \u001b[0mget_token\u001b[0m\u001b[0;34m(\u001b[0m\u001b[0mself\u001b[0m\u001b[0;34m)\u001b[0m\u001b[0;34m:\u001b[0m\u001b[0;34m\u001b[0m\u001b[0m\n",
      "\u001b[0;31mWatsonApiException\u001b[0m: Error: Provided API key could not be found, Code: 400"
     ]
    }
   ],
   "source": [
    "\"\"\"\n",
    "Use this cell to run the preliminary test and calculate the baseline accuracy of the newly created classifer\n",
    "\"\"\"\n",
    "test_classifier('c0', WATSON_CLASSIFIER_ID_1)\n",
    "plt.plot(classifier_stats['c0'], 'ro')\n",
    "plt.show()"
   ]
  },
  {
   "cell_type": "markdown",
   "metadata": {},
   "source": [
    "Next you will run a series of supervised learning steps. Here you will run the following code to produce class zips and add these to your first classifier. As you complete each round of training, you should run the test code to see how the model accuracy improves over time."
   ]
  },
  {
   "cell_type": "code",
   "execution_count": 69,
   "metadata": {},
   "outputs": [],
   "source": [
    "\"\"\"\n",
    "description: function for supervised learning.\n",
    "Select random images and label all images\n",
    "\"\"\"\n",
    "def supervised_learning():\n",
    "    images = choose_images(100)\n",
    "    labels = label_images_with_ground_truth(images)\n",
    "    lqz = create_zip(labels['low_quality'], 'low_quality')\n",
    "    mqz = create_zip(labels['medium_quality'], 'medium_quality')\n",
    "    hqz = create_zip(labels['high_quality'], 'high_quality')\n",
    "    print('low quality: ' + lqz)\n",
    "    print('medium quality: ' + mqz)\n",
    "    print('high quality: ' + hqz)\n",
    "\n"
   ]
  },
  {
   "cell_type": "code",
   "execution_count": 71,
   "metadata": {
    "scrolled": true
   },
   "outputs": [
    {
     "name": "stdout",
     "output_type": "stream",
     "text": [
      "low quality: low_quality_1535878016.zip\n",
      "medium quality: medium_quality_1535878016.zip\n",
      "high quality: high_quality_1535878016.zip\n"
     ]
    }
   ],
   "source": [
    "supervised_learning()"
   ]
  },
  {
   "cell_type": "code",
   "execution_count": 97,
   "metadata": {},
   "outputs": [
    {
     "name": "stdout",
     "output_type": "stream",
     "text": [
      "Running inferences for classifier quality_detector_1_1645158165...\n",
      "Running inference for 1_70.jpg\n",
      "{'images': [{'classifiers': [{'classifier_id': 'quality_detector_1_1645158165', 'name': 'quality_detector_1', 'classes': [{'class': 'low_quality', 'score': 0.898}]}], 'image': './test_images/1_70.jpg'}], 'images_processed': 1, 'custom_classes': 3}\n",
      "Running inference for 1_71.jpg\n",
      "{'images': [{'classifiers': [{'classifier_id': 'quality_detector_1_1645158165', 'name': 'quality_detector_1', 'classes': [{'class': 'low_quality', 'score': 0.906}]}], 'image': './test_images/1_71.jpg'}], 'images_processed': 1, 'custom_classes': 3}\n",
      "Running inference for 1_72.jpg\n",
      "{'images': [{'classifiers': [{'classifier_id': 'quality_detector_1_1645158165', 'name': 'quality_detector_1', 'classes': [{'class': 'low_quality', 'score': 0.904}]}], 'image': './test_images/1_72.jpg'}], 'images_processed': 1, 'custom_classes': 3}\n",
      "Running inference for 1_73.jpg\n",
      "{'images': [{'classifiers': [{'classifier_id': 'quality_detector_1_1645158165', 'name': 'quality_detector_1', 'classes': [{'class': 'low_quality', 'score': 0.892}]}], 'image': './test_images/1_73.jpg'}], 'images_processed': 1, 'custom_classes': 3}\n",
      "Running inference for 1_74.jpg\n",
      "{'images': [{'classifiers': [{'classifier_id': 'quality_detector_1_1645158165', 'name': 'quality_detector_1', 'classes': [{'class': 'low_quality', 'score': 0.905}]}], 'image': './test_images/1_74.jpg'}], 'images_processed': 1, 'custom_classes': 3}\n",
      "Running inference for 2_84.jpg\n",
      "{'images': [{'classifiers': [{'classifier_id': 'quality_detector_1_1645158165', 'name': 'quality_detector_1', 'classes': [{'class': 'low_quality', 'score': 0.804}]}], 'image': './test_images/2_84.jpg'}], 'images_processed': 1, 'custom_classes': 3}\n",
      "Running inference for 2_85.jpg\n",
      "{'images': [{'classifiers': [{'classifier_id': 'quality_detector_1_1645158165', 'name': 'quality_detector_1', 'classes': [{'class': 'low_quality', 'score': 0.688}, {'class': 'medium_quality', 'score': 0.575}]}], 'image': './test_images/2_85.jpg'}], 'images_processed': 1, 'custom_classes': 3}\n",
      "Running inference for 2_86.jpg\n",
      "{'images': [{'classifiers': [{'classifier_id': 'quality_detector_1_1645158165', 'name': 'quality_detector_1', 'classes': [{'class': 'low_quality', 'score': 0.905}]}], 'image': './test_images/2_86.jpg'}], 'images_processed': 1, 'custom_classes': 3}\n",
      "Running inference for 2_87.jpg\n",
      "{'images': [{'classifiers': [{'classifier_id': 'quality_detector_1_1645158165', 'name': 'quality_detector_1', 'classes': [{'class': 'low_quality', 'score': 0.9}]}], 'image': './test_images/2_87.jpg'}], 'images_processed': 1, 'custom_classes': 3}\n",
      "Running inference for 2_88.jpg\n",
      "{'images': [{'classifiers': [{'classifier_id': 'quality_detector_1_1645158165', 'name': 'quality_detector_1', 'classes': [{'class': 'low_quality', 'score': 0.896}]}], 'image': './test_images/2_88.jpg'}], 'images_processed': 1, 'custom_classes': 3}\n",
      "Running inference for 3_4340.jpg\n",
      "{'images': [{'classifiers': [{'classifier_id': 'quality_detector_1_1645158165', 'name': 'quality_detector_1', 'classes': [{'class': 'high_quality', 'score': 0.773}]}], 'image': './test_images/3_4340.jpg'}], 'images_processed': 1, 'custom_classes': 3}\n",
      "Running inference for 3_4341.jpg\n",
      "{'images': [{'classifiers': [{'classifier_id': 'quality_detector_1_1645158165', 'name': 'quality_detector_1', 'classes': [{'class': 'medium_quality', 'score': 0.623}]}], 'image': './test_images/3_4341.jpg'}], 'images_processed': 1, 'custom_classes': 3}\n",
      "Running inference for 3_4342.jpg\n",
      "{'images': [{'classifiers': [{'classifier_id': 'quality_detector_1_1645158165', 'name': 'quality_detector_1', 'classes': [{'class': 'low_quality', 'score': 0.857}]}], 'image': './test_images/3_4342.jpg'}], 'images_processed': 1, 'custom_classes': 3}\n",
      "Running inference for 3_4343.jpg\n",
      "{'images': [{'classifiers': [{'classifier_id': 'quality_detector_1_1645158165', 'name': 'quality_detector_1', 'classes': [{'class': 'low_quality', 'score': 0.883}]}], 'image': './test_images/3_4343.jpg'}], 'images_processed': 1, 'custom_classes': 3}\n",
      "Running inference for 3_4344.jpg\n",
      "{'images': [{'classifiers': [{'classifier_id': 'quality_detector_1_1645158165', 'name': 'quality_detector_1', 'classes': [{'class': 'low_quality', 'score': 0.783}]}], 'image': './test_images/3_4344.jpg'}], 'images_processed': 1, 'custom_classes': 3}\n",
      "Running inference for 4_6050.jpg\n",
      "{'images': [{'classifiers': [{'classifier_id': 'quality_detector_1_1645158165', 'name': 'quality_detector_1', 'classes': [{'class': 'low_quality', 'score': 0.899}]}], 'image': './test_images/4_6050.jpg'}], 'images_processed': 1, 'custom_classes': 3}\n",
      "Running inference for 4_6051.jpg\n",
      "{'images': [{'classifiers': [{'classifier_id': 'quality_detector_1_1645158165', 'name': 'quality_detector_1', 'classes': [{'class': 'low_quality', 'score': 0.875}]}], 'image': './test_images/4_6051.jpg'}], 'images_processed': 1, 'custom_classes': 3}\n",
      "Running inference for 4_6052.jpg\n",
      "{'images': [{'classifiers': [{'classifier_id': 'quality_detector_1_1645158165', 'name': 'quality_detector_1', 'classes': [{'class': 'low_quality', 'score': 0.855}]}], 'image': './test_images/4_6052.jpg'}], 'images_processed': 1, 'custom_classes': 3}\n",
      "Running inference for 4_6053.jpg\n",
      "{'images': [{'classifiers': [{'classifier_id': 'quality_detector_1_1645158165', 'name': 'quality_detector_1', 'classes': [{'class': 'high_quality', 'score': 0.79}]}], 'image': './test_images/4_6053.jpg'}], 'images_processed': 1, 'custom_classes': 3}\n",
      "Running inference for 4_6054.jpg\n",
      "{'images': [{'classifiers': [{'classifier_id': 'quality_detector_1_1645158165', 'name': 'quality_detector_1', 'classes': [{'class': 'medium_quality', 'score': 0.775}]}], 'image': './test_images/4_6054.jpg'}], 'images_processed': 1, 'custom_classes': 3}\n",
      "Running inference for 5_7171.jpg\n",
      "{'images': [{'classifiers': [{'classifier_id': 'quality_detector_1_1645158165', 'name': 'quality_detector_1', 'classes': [{'class': 'high_quality', 'score': 0.891}]}], 'image': './test_images/5_7171.jpg'}], 'images_processed': 1, 'custom_classes': 3}\n",
      "Running inference for 5_7172.jpg\n",
      "{'images': [{'classifiers': [{'classifier_id': 'quality_detector_1_1645158165', 'name': 'quality_detector_1', 'classes': [{'class': 'high_quality', 'score': 0.875}]}], 'image': './test_images/5_7172.jpg'}], 'images_processed': 1, 'custom_classes': 3}\n",
      "Running inference for 5_7174.jpg\n",
      "{'images': [{'classifiers': [{'classifier_id': 'quality_detector_1_1645158165', 'name': 'quality_detector_1', 'classes': [{'class': 'low_quality', 'score': 0.838}]}], 'image': './test_images/5_7174.jpg'}], 'images_processed': 1, 'custom_classes': 3}\n",
      "Running inference for 5_7200.jpg\n",
      "{'images': [{'classifiers': [{'classifier_id': 'quality_detector_1_1645158165', 'name': 'quality_detector_1', 'classes': [{'class': 'high_quality', 'score': 0.793}]}], 'image': './test_images/5_7200.jpg'}], 'images_processed': 1, 'custom_classes': 3}\n",
      "Running inference for 5_7201.jpg\n",
      "{'images': [{'classifiers': [{'classifier_id': 'quality_detector_1_1645158165', 'name': 'quality_detector_1', 'classes': [{'class': 'high_quality', 'score': 0.602}, {'class': 'low_quality', 'score': 0.674}]}], 'image': './test_images/5_7201.jpg'}], 'images_processed': 1, 'custom_classes': 3}\n",
      "Accuracy: 0.64\n"
     ]
    },
    {
     "data": {
      "image/png": "[encoded data removed]",
      "text/plain": [
       "<Figure size 432x288 with 1 Axes>"
      ]
     },
     "metadata": {},
     "output_type": "display_data"
    }
   ],
   "source": [
    "test_classifier('c0', WATSON_CLASSIFIER_ID_1)\n",
    "plt.plot(classifier_stats['c0'])\n",
    "plt.show()"
   ]
  },
  {
   "cell_type": "markdown",
   "metadata": {},
   "source": [
    "#### Task: Run iterations of supervised learning and plot the accuracy of the model as more data is added"
   ]
  },
  {
   "cell_type": "code",
   "execution_count": 166,
   "metadata": {},
   "outputs": [],
   "source": [
    "# TODO: Write the code to run additional tests after each round of training\n",
    "# HINT: This is the same code used above to complete the first round of training"
   ]
  },
  {
   "cell_type": "markdown",
   "metadata": {},
   "source": [
    "# Exercise 1: Confidence Sampling\n",
    "In this exercise you will use confidence-based sampling. The goal is to create a query method that will rapidly increase the accuracy of your model with as little data as possible.\n",
    "\n",
    "The idea of confidence sampling is that you are making inferences on your initial classifier. Based on the confidence of these inferences you want to intelligently select which examples you want to add directly to your model and which samples you want to explicitly label.\n",
    "\n",
    "#### Task: Create a function that uses confidence sampling to select which examples should be manually labeled. Once these have been selected run them through the label function and create batches to be added to the classifier.\n",
    "\n",
    "#### NOTE: Make sure to run a preliminary test to get a baseline accuracy of your model"
   ]
  },
  {
   "cell_type": "code",
   "execution_count": 79,
   "metadata": {},
   "outputs": [
    {
     "name": "stdout",
     "output_type": "stream",
     "text": [
      "Running inferences for classifier qd_2_2048362238...\n",
      "Running inference for 1_70.jpg\n",
      "{'images': [{'classifiers': [{'classifier_id': 'qd_2_2048362238', 'name': 'qd_2', 'classes': [{'class': 'low_quality', 'score': 0.883}]}], 'image': './test_images/1_70.jpg'}], 'images_processed': 1, 'custom_classes': 3}\n",
      "Running inference for 1_71.jpg\n",
      "{'images': [{'classifiers': [{'classifier_id': 'qd_2_2048362238', 'name': 'qd_2', 'classes': [{'class': 'low_quality', 'score': 0.906}]}], 'image': './test_images/1_71.jpg'}], 'images_processed': 1, 'custom_classes': 3}\n",
      "Running inference for 1_72.jpg\n",
      "{'images': [{'classifiers': [{'classifier_id': 'qd_2_2048362238', 'name': 'qd_2', 'classes': [{'class': 'low_quality', 'score': 0.857}]}], 'image': './test_images/1_72.jpg'}], 'images_processed': 1, 'custom_classes': 3}\n",
      "Running inference for 1_73.jpg\n",
      "{'images': [{'classifiers': [{'classifier_id': 'qd_2_2048362238', 'name': 'qd_2', 'classes': [{'class': 'medium_quality', 'score': 0.777}]}], 'image': './test_images/1_73.jpg'}], 'images_processed': 1, 'custom_classes': 3}\n",
      "Running inference for 1_74.jpg\n",
      "{'images': [{'classifiers': [{'classifier_id': 'qd_2_2048362238', 'name': 'qd_2', 'classes': [{'class': 'medium_quality', 'score': 0.733}]}], 'image': './test_images/1_74.jpg'}], 'images_processed': 1, 'custom_classes': 3}\n",
      "Running inference for 2_84.jpg\n",
      "{'images': [{'classifiers': [{'classifier_id': 'qd_2_2048362238', 'name': 'qd_2', 'classes': [{'class': 'low_quality', 'score': 0.78}]}], 'image': './test_images/2_84.jpg'}], 'images_processed': 1, 'custom_classes': 3}\n",
      "Running inference for 2_85.jpg\n",
      "{'images': [{'classifiers': [{'classifier_id': 'qd_2_2048362238', 'name': 'qd_2', 'classes': [{'class': 'medium_quality', 'score': 0.745}]}], 'image': './test_images/2_85.jpg'}], 'images_processed': 1, 'custom_classes': 3}\n",
      "Running inference for 2_86.jpg\n",
      "{'images': [{'classifiers': [{'classifier_id': 'qd_2_2048362238', 'name': 'qd_2', 'classes': [{'class': 'low_quality', 'score': 0.687}]}], 'image': './test_images/2_86.jpg'}], 'images_processed': 1, 'custom_classes': 3}\n",
      "Running inference for 2_87.jpg\n",
      "{'images': [{'classifiers': [{'classifier_id': 'qd_2_2048362238', 'name': 'qd_2', 'classes': [{'class': 'medium_quality', 'score': 0.575}]}], 'image': './test_images/2_87.jpg'}], 'images_processed': 1, 'custom_classes': 3}\n",
      "Running inference for 2_88.jpg\n",
      "{'images': [{'classifiers': [{'classifier_id': 'qd_2_2048362238', 'name': 'qd_2', 'classes': [{'class': 'low_quality', 'score': 0.771}]}], 'image': './test_images/2_88.jpg'}], 'images_processed': 1, 'custom_classes': 3}\n",
      "Running inference for 3_4340.jpg\n",
      "{'images': [{'classifiers': [{'classifier_id': 'qd_2_2048362238', 'name': 'qd_2', 'classes': [{'class': 'medium_quality', 'score': 0.805}]}], 'image': './test_images/3_4340.jpg'}], 'images_processed': 1, 'custom_classes': 3}\n",
      "Running inference for 3_4341.jpg\n",
      "{'images': [{'classifiers': [{'classifier_id': 'qd_2_2048362238', 'name': 'qd_2', 'classes': [{'class': 'medium_quality', 'score': 0.896}]}], 'image': './test_images/3_4341.jpg'}], 'images_processed': 1, 'custom_classes': 3}\n",
      "Running inference for 3_4342.jpg\n",
      "{'images': [{'classifiers': [{'classifier_id': 'qd_2_2048362238', 'name': 'qd_2', 'classes': [{'class': 'medium_quality', 'score': 0.846}]}], 'image': './test_images/3_4342.jpg'}], 'images_processed': 1, 'custom_classes': 3}\n",
      "Running inference for 3_4343.jpg\n",
      "{'images': [{'classifiers': [{'classifier_id': 'qd_2_2048362238', 'name': 'qd_2', 'classes': [{'class': 'medium_quality', 'score': 0.765}]}], 'image': './test_images/3_4343.jpg'}], 'images_processed': 1, 'custom_classes': 3}\n",
      "Running inference for 3_4344.jpg\n",
      "{'images': [{'classifiers': [{'classifier_id': 'qd_2_2048362238', 'name': 'qd_2', 'classes': [{'class': 'high_quality', 'score': 0.883}]}], 'image': './test_images/3_4344.jpg'}], 'images_processed': 1, 'custom_classes': 3}\n",
      "Running inference for 4_6050.jpg\n",
      "{'images': [{'classifiers': [{'classifier_id': 'qd_2_2048362238', 'name': 'qd_2', 'classes': [{'class': 'medium_quality', 'score': 0.832}]}], 'image': './test_images/4_6050.jpg'}], 'images_processed': 1, 'custom_classes': 3}\n",
      "Running inference for 4_6051.jpg\n",
      "{'images': [{'classifiers': [{'classifier_id': 'qd_2_2048362238', 'name': 'qd_2', 'classes': [{'class': 'medium_quality', 'score': 0.904}]}], 'image': './test_images/4_6051.jpg'}], 'images_processed': 1, 'custom_classes': 3}\n",
      "Running inference for 4_6052.jpg\n",
      "{'images': [{'classifiers': [{'classifier_id': 'qd_2_2048362238', 'name': 'qd_2', 'classes': [{'class': 'low_quality', 'score': 0.505}, {'class': 'medium_quality', 'score': 0.736}]}], 'image': './test_images/4_6052.jpg'}], 'images_processed': 1, 'custom_classes': 3}\n",
      "Running inference for 4_6053.jpg\n",
      "{'images': [{'classifiers': [{'classifier_id': 'qd_2_2048362238', 'name': 'qd_2', 'classes': [{'class': 'medium_quality', 'score': 0.881}]}], 'image': './test_images/4_6053.jpg'}], 'images_processed': 1, 'custom_classes': 3}\n",
      "Running inference for 4_6054.jpg\n",
      "{'images': [{'classifiers': [{'classifier_id': 'qd_2_2048362238', 'name': 'qd_2', 'classes': [{'class': 'medium_quality', 'score': 0.883}]}], 'image': './test_images/4_6054.jpg'}], 'images_processed': 1, 'custom_classes': 3}\n",
      "Running inference for 5_7171.jpg\n",
      "{'images': [{'classifiers': [{'classifier_id': 'qd_2_2048362238', 'name': 'qd_2', 'classes': [{'class': 'medium_quality', 'score': 0.756}]}], 'image': './test_images/5_7171.jpg'}], 'images_processed': 1, 'custom_classes': 3}\n",
      "Running inference for 5_7172.jpg\n",
      "{'images': [{'classifiers': [{'classifier_id': 'qd_2_2048362238', 'name': 'qd_2', 'classes': [{'class': 'high_quality', 'score': 0.905}]}], 'image': './test_images/5_7172.jpg'}], 'images_processed': 1, 'custom_classes': 3}\n",
      "Running inference for 5_7174.jpg\n",
      "{'images': [{'classifiers': [{'classifier_id': 'qd_2_2048362238', 'name': 'qd_2', 'classes': [{'class': 'high_quality', 'score': 0.898}]}], 'image': './test_images/5_7174.jpg'}], 'images_processed': 1, 'custom_classes': 3}\n",
      "Running inference for 5_7200.jpg\n",
      "{'images': [{'classifiers': [{'classifier_id': 'qd_2_2048362238', 'name': 'qd_2', 'classes': [{'class': 'medium_quality', 'score': 0.902}]}], 'image': './test_images/5_7200.jpg'}], 'images_processed': 1, 'custom_classes': 3}\n",
      "Running inference for 5_7201.jpg\n",
      "{'images': [{'classifiers': [{'classifier_id': 'qd_2_2048362238', 'name': 'qd_2', 'classes': [{'class': 'low_quality', 'score': 0.595}, {'class': 'medium_quality', 'score': 0.641}]}], 'image': './test_images/5_7201.jpg'}], 'images_processed': 1, 'custom_classes': 3}\n",
      "Accuracy: 0.48\n"
     ]
    },
    {
     "data": {
      "image/png": "[encoded data removed]",
      "text/plain": [
       "<Figure size 432x288 with 1 Axes>"
      ]
     },
     "metadata": {},
     "output_type": "display_data"
    }
   ],
   "source": [
    "\"\"\"\n",
    "Run preliminary test of classifier to get baseline accuracy\n",
    "\"\"\"\n",
    "test_classifier('c1', WATSON_CLASSIFIER_ID_2)\n",
    "plt.plot(classifier_stats['c1'], 'ro')\n",
    "plt.show()"
   ]
  },
  {
   "cell_type": "code",
   "execution_count": 91,
   "metadata": {},
   "outputs": [],
   "source": [
    "\"\"\"\n",
    "function: basic_confidence_sampling\n",
    "threshold (float): float between 0 and 1 for threshold to label images\n",
    "\"\"\"\n",
    "def confidence_sampling():\n",
    "    images = choose_images(100) # You can select the number of images you want to test\n",
    "    inferences = run_inferences(images, IMAGE_DIRECTORY, WATSON_CLASSIFIER_ID_2)\n",
    "    to_label = []\n",
    "    for image in inferences:\n",
    "        confidence = inferences[image]['confidence']\n",
    "        if confidence < 0.8:\n",
    "            to_label.append(image)\n",
    "    print(to_label)\n",
    "    labels = label_images_with_ground_truth(to_label)\n",
    "    # TODO: fill in your confidence query method here.\n",
    "    # Based on the confidence select which samples you want to label\n",
    "    # and then create the required zip files for those images and add them\n",
    "    # to your model\n",
    "    \n",
    "    lqz = create_zip(labels['low_quality'], 'low_quality')\n",
    "    mqz = create_zip(labels['medium_quality'], 'medium_quality')\n",
    "    hqz = create_zip(labels['high_quality'], 'high_quality')\n",
    "\n"
   ]
  },
  {
   "cell_type": "code",
   "execution_count": 92,
   "metadata": {},
   "outputs": [
    {
     "name": "stdout",
     "output_type": "stream",
     "text": [
      "Running inferences for classifier qd_2_2048362238...\n",
      "Running inference for 3_5416.jpg\n",
      "{'images': [{'classifiers': [{'classifier_id': 'qd_2_2048362238', 'name': 'qd_2', 'classes': [{'class': 'medium_quality', 'score': 0.809}]}], 'image': './images/3_5416.jpg'}], 'images_processed': 1, 'custom_classes': 3}\n",
      "Running inference for 3_3326.jpg\n",
      "{'images': [{'classifiers': [{'classifier_id': 'qd_2_2048362238', 'name': 'qd_2', 'classes': [{'class': 'medium_quality', 'score': 0.786}]}], 'image': './images/3_3326.jpg'}], 'images_processed': 1, 'custom_classes': 3}\n",
      "Running inference for 2_924.jpg\n",
      "{'images': [{'classifiers': [{'classifier_id': 'qd_2_2048362238', 'name': 'qd_2', 'classes': [{'class': 'medium_quality', 'score': 0.688}]}], 'image': './images/2_924.jpg'}], 'images_processed': 1, 'custom_classes': 3}\n",
      "Running inference for 3_1204.jpg\n",
      "{'images': [{'classifiers': [{'classifier_id': 'qd_2_2048362238', 'name': 'qd_2', 'classes': [{'class': 'high_quality', 'score': 0.816}]}], 'image': './images/3_1204.jpg'}], 'images_processed': 1, 'custom_classes': 3}\n",
      "Running inference for 3_3225.jpg\n",
      "{'images': [{'classifiers': [{'classifier_id': 'qd_2_2048362238', 'name': 'qd_2', 'classes': [{'class': 'medium_quality', 'score': 0.813}]}], 'image': './images/3_3225.jpg'}], 'images_processed': 1, 'custom_classes': 3}\n",
      "Running inference for 4_6243.jpg\n",
      "{'images': [{'classifiers': [{'classifier_id': 'qd_2_2048362238', 'name': 'qd_2', 'classes': [{'class': 'low_quality', 'score': 0.685}, {'class': 'medium_quality', 'score': 0.588}]}], 'image': './images/4_6243.jpg'}], 'images_processed': 1, 'custom_classes': 3}\n",
      "Running inference for 3_5143.jpg\n",
      "{'images': [{'classifiers': [{'classifier_id': 'qd_2_2048362238', 'name': 'qd_2', 'classes': [{'class': 'high_quality', 'score': 0.896}]}], 'image': './images/3_5143.jpg'}], 'images_processed': 1, 'custom_classes': 3}\n",
      "Running inference for 2_844.jpg\n",
      "{'images': [{'classifiers': [{'classifier_id': 'qd_2_2048362238', 'name': 'qd_2', 'classes': [{'class': 'low_quality', 'score': 0.884}]}], 'image': './images/2_844.jpg'}], 'images_processed': 1, 'custom_classes': 3}\n",
      "Running inference for 3_4895.jpg\n",
      "{'images': [{'classifiers': [{'classifier_id': 'qd_2_2048362238', 'name': 'qd_2', 'classes': [{'class': 'low_quality', 'score': 0.823}]}], 'image': './images/3_4895.jpg'}], 'images_processed': 1, 'custom_classes': 3}\n",
      "Running inference for 3_5292.jpg\n",
      "{'images': [{'classifiers': [{'classifier_id': 'qd_2_2048362238', 'name': 'qd_2', 'classes': [{'class': 'low_quality', 'score': 0.759}]}], 'image': './images/3_5292.jpg'}], 'images_processed': 1, 'custom_classes': 3}\n",
      "Running inference for 3_5202.jpg\n",
      "{'images': [{'classifiers': [{'classifier_id': 'qd_2_2048362238', 'name': 'qd_2', 'classes': [{'class': 'high_quality', 'score': 0.541}, {'class': 'medium_quality', 'score': 0.669}]}], 'image': './images/3_5202.jpg'}], 'images_processed': 1, 'custom_classes': 3}\n",
      "Running inference for 3_5637.jpg\n",
      "{'images': [{'classifiers': [{'classifier_id': 'qd_2_2048362238', 'name': 'qd_2', 'classes': [{'class': 'low_quality', 'score': 0.818}]}], 'image': './images/3_5637.jpg'}], 'images_processed': 1, 'custom_classes': 3}\n",
      "Running inference for 2_950.jpg\n",
      "{'images': [{'classifiers': [{'classifier_id': 'qd_2_2048362238', 'name': 'qd_2', 'classes': [{'class': 'high_quality', 'score': 0.526}, {'class': 'medium_quality', 'score': 0.715}]}], 'image': './images/2_950.jpg'}], 'images_processed': 1, 'custom_classes': 3}\n",
      "Running inference for 3_1675.jpg\n",
      "{'images': [{'classifiers': [{'classifier_id': 'qd_2_2048362238', 'name': 'qd_2', 'classes': [{'class': 'medium_quality', 'score': 0.79}]}], 'image': './images/3_1675.jpg'}], 'images_processed': 1, 'custom_classes': 3}\n",
      "Running inference for 3_3340.jpg\n",
      "{'images': [{'classifiers': [{'classifier_id': 'qd_2_2048362238', 'name': 'qd_2', 'classes': [{'class': 'medium_quality', 'score': 0.897}]}], 'image': './images/3_3340.jpg'}], 'images_processed': 1, 'custom_classes': 3}\n",
      "Running inference for 3_3751.jpg\n",
      "{'images': [{'classifiers': [{'classifier_id': 'qd_2_2048362238', 'name': 'qd_2', 'classes': [{'class': 'high_quality', 'score': 0.741}]}], 'image': './images/3_3751.jpg'}], 'images_processed': 1, 'custom_classes': 3}\n",
      "Running inference for 4_6348.jpg\n",
      "{'images': [{'classifiers': [{'classifier_id': 'qd_2_2048362238', 'name': 'qd_2', 'classes': [{'class': 'medium_quality', 'score': 0.849}]}], 'image': './images/4_6348.jpg'}], 'images_processed': 1, 'custom_classes': 3}\n",
      "Running inference for 3_5107.jpg\n",
      "{'images': [{'classifiers': [{'classifier_id': 'qd_2_2048362238', 'name': 'qd_2', 'classes': [{'class': 'high_quality', 'score': 0.861}]}], 'image': './images/3_5107.jpg'}], 'images_processed': 1, 'custom_classes': 3}\n",
      "Running inference for 3_1572.jpg\n",
      "{'images': [{'classifiers': [{'classifier_id': 'qd_2_2048362238', 'name': 'qd_2', 'classes': [{'class': 'high_quality', 'score': 0.834}]}], 'image': './images/3_1572.jpg'}], 'images_processed': 1, 'custom_classes': 3}\n",
      "Running inference for 3_4391.jpg\n",
      "{'images': [{'classifiers': [{'classifier_id': 'qd_2_2048362238', 'name': 'qd_2', 'classes': [{'class': 'low_quality', 'score': 0.868}]}], 'image': './images/3_4391.jpg'}], 'images_processed': 1, 'custom_classes': 3}\n",
      "Running inference for 3_5668.jpg\n",
      "{'images': [{'classifiers': [{'classifier_id': 'qd_2_2048362238', 'name': 'qd_2', 'classes': [{'class': 'medium_quality', 'score': 0.889}]}], 'image': './images/3_5668.jpg'}], 'images_processed': 1, 'custom_classes': 3}\n",
      "Running inference for 3_2078.jpg\n",
      "{'images': [{'classifiers': [{'classifier_id': 'qd_2_2048362238', 'name': 'qd_2', 'classes': [{'class': 'low_quality', 'score': 0.836}]}], 'image': './images/3_2078.jpg'}], 'images_processed': 1, 'custom_classes': 3}\n",
      "Running inference for 4_5758.jpg\n",
      "{'images': [{'classifiers': [{'classifier_id': 'qd_2_2048362238', 'name': 'qd_2', 'classes': [{'class': 'high_quality', 'score': 0.826}]}], 'image': './images/4_5758.jpg'}], 'images_processed': 1, 'custom_classes': 3}\n",
      "Running inference for 4_6406.jpg\n",
      "{'images': [{'classifiers': [{'classifier_id': 'qd_2_2048362238', 'name': 'qd_2', 'classes': [{'class': 'high_quality', 'score': 0.874}]}], 'image': './images/4_6406.jpg'}], 'images_processed': 1, 'custom_classes': 3}\n",
      "Running inference for 3_4622.jpg\n",
      "{'images': [{'classifiers': [{'classifier_id': 'qd_2_2048362238', 'name': 'qd_2', 'classes': [{'class': 'medium_quality', 'score': 0.851}]}], 'image': './images/3_4622.jpg'}], 'images_processed': 1, 'custom_classes': 3}\n",
      "Running inference for 3_3568.jpg\n",
      "{'images': [{'classifiers': [{'classifier_id': 'qd_2_2048362238', 'name': 'qd_2', 'classes': [{'class': 'medium_quality', 'score': 0.888}]}], 'image': './images/3_3568.jpg'}], 'images_processed': 1, 'custom_classes': 3}\n",
      "Running inference for 4_6032.jpg\n",
      "{'images': [{'classifiers': [{'classifier_id': 'qd_2_2048362238', 'name': 'qd_2', 'classes': [{'class': 'medium_quality', 'score': 0.901}]}], 'image': './images/4_6032.jpg'}], 'images_processed': 1, 'custom_classes': 3}\n",
      "Running inference for 3_5443.jpg\n",
      "{'images': [{'classifiers': [{'classifier_id': 'qd_2_2048362238', 'name': 'qd_2', 'classes': [{'class': 'medium_quality', 'score': 0.778}]}], 'image': './images/3_5443.jpg'}], 'images_processed': 1, 'custom_classes': 3}\n",
      "Running inference for 4_6850.jpg\n",
      "{'images': [{'classifiers': [{'classifier_id': 'qd_2_2048362238', 'name': 'qd_2', 'classes': [{'class': 'high_quality', 'score': 0.878}]}], 'image': './images/4_6850.jpg'}], 'images_processed': 1, 'custom_classes': 3}\n",
      "Running inference for 4_6346.jpg\n",
      "{'images': [{'classifiers': [{'classifier_id': 'qd_2_2048362238', 'name': 'qd_2', 'classes': [{'class': 'medium_quality', 'score': 0.899}]}], 'image': './images/4_6346.jpg'}], 'images_processed': 1, 'custom_classes': 3}\n",
      "Running inference for 3_3200.jpg\n",
      "{'images': [{'classifiers': [{'classifier_id': 'qd_2_2048362238', 'name': 'qd_2', 'classes': [{'class': 'low_quality', 'score': 0.867}]}], 'image': './images/3_3200.jpg'}], 'images_processed': 1, 'custom_classes': 3}\n",
      "Running inference for 4_6864.jpg\n",
      "{'images': [{'classifiers': [{'classifier_id': 'qd_2_2048362238', 'name': 'qd_2', 'classes': [{'class': 'medium_quality', 'score': 0.793}]}], 'image': './images/4_6864.jpg'}], 'images_processed': 1, 'custom_classes': 3}\n",
      "Running inference for 3_5389.jpg\n"
     ]
    },
    {
     "name": "stdout",
     "output_type": "stream",
     "text": [
      "{'images': [{'classifiers': [{'classifier_id': 'qd_2_2048362238', 'name': 'qd_2', 'classes': [{'class': 'medium_quality', 'score': 0.832}]}], 'image': './images/3_5389.jpg'}], 'images_processed': 1, 'custom_classes': 3}\n",
      "Running inference for 4_6787.jpg\n",
      "{'images': [{'classifiers': [{'classifier_id': 'qd_2_2048362238', 'name': 'qd_2', 'classes': [{'class': 'high_quality', 'score': 0.895}]}], 'image': './images/4_6787.jpg'}], 'images_processed': 1, 'custom_classes': 3}\n",
      "Running inference for 3_1267.jpg\n",
      "{'images': [{'classifiers': [{'classifier_id': 'qd_2_2048362238', 'name': 'qd_2', 'classes': [{'class': 'medium_quality', 'score': 0.774}]}], 'image': './images/3_1267.jpg'}], 'images_processed': 1, 'custom_classes': 3}\n",
      "Running inference for 3_4630.jpg\n",
      "{'images': [{'classifiers': [{'classifier_id': 'qd_2_2048362238', 'name': 'qd_2', 'classes': [{'class': 'medium_quality', 'score': 0.739}]}], 'image': './images/3_4630.jpg'}], 'images_processed': 1, 'custom_classes': 3}\n",
      "Running inference for 4_6168.jpg\n",
      "{'images': [{'classifiers': [{'classifier_id': 'qd_2_2048362238', 'name': 'qd_2', 'classes': [{'class': 'medium_quality', 'score': 0.833}]}], 'image': './images/4_6168.jpg'}], 'images_processed': 1, 'custom_classes': 3}\n",
      "Running inference for 3_1518.jpg\n",
      "{'images': [{'classifiers': [{'classifier_id': 'qd_2_2048362238', 'name': 'qd_2', 'classes': [{'class': 'high_quality', 'score': 0.901}]}], 'image': './images/3_1518.jpg'}], 'images_processed': 1, 'custom_classes': 3}\n",
      "Running inference for 3_3756.jpg\n",
      "{'images': [{'classifiers': [{'classifier_id': 'qd_2_2048362238', 'name': 'qd_2', 'classes': [{'class': 'medium_quality', 'score': 0.884}]}], 'image': './images/3_3756.jpg'}], 'images_processed': 1, 'custom_classes': 3}\n",
      "Running inference for 4_7127.jpg\n",
      "{'images': [{'classifiers': [{'classifier_id': 'qd_2_2048362238', 'name': 'qd_2', 'classes': [{'class': 'high_quality', 'score': 0.794}]}], 'image': './images/4_7127.jpg'}], 'images_processed': 1, 'custom_classes': 3}\n",
      "Running inference for 4_6853.jpg\n",
      "{'images': [{'classifiers': [{'classifier_id': 'qd_2_2048362238', 'name': 'qd_2', 'classes': [{'class': 'low_quality', 'score': 0.891}]}], 'image': './images/4_6853.jpg'}], 'images_processed': 1, 'custom_classes': 3}\n",
      "Running inference for 3_5203.jpg\n",
      "{'images': [{'classifiers': [{'classifier_id': 'qd_2_2048362238', 'name': 'qd_2', 'classes': [{'class': 'high_quality', 'score': 0.833}]}], 'image': './images/3_5203.jpg'}], 'images_processed': 1, 'custom_classes': 3}\n",
      "Running inference for 3_4370.jpg\n",
      "{'images': [{'classifiers': [{'classifier_id': 'qd_2_2048362238', 'name': 'qd_2', 'classes': [{'class': 'high_quality', 'score': 0.621}, {'class': 'medium_quality', 'score': 0.602}]}], 'image': './images/3_4370.jpg'}], 'images_processed': 1, 'custom_classes': 3}\n",
      "Running inference for 2_996.jpg\n",
      "{'images': [{'classifiers': [{'classifier_id': 'qd_2_2048362238', 'name': 'qd_2', 'classes': [{'class': 'high_quality', 'score': 0.692}]}], 'image': './images/2_996.jpg'}], 'images_processed': 1, 'custom_classes': 3}\n",
      "Running inference for 2_571.jpg\n",
      "{'images': [{'classifiers': [{'classifier_id': 'qd_2_2048362238', 'name': 'qd_2', 'classes': [{'class': 'medium_quality', 'score': 0.686}]}], 'image': './images/2_571.jpg'}], 'images_processed': 1, 'custom_classes': 3}\n",
      "Running inference for 4_6409.jpg\n",
      "{'images': [{'classifiers': [{'classifier_id': 'qd_2_2048362238', 'name': 'qd_2', 'classes': [{'class': 'high_quality', 'score': 0.904}]}], 'image': './images/4_6409.jpg'}], 'images_processed': 1, 'custom_classes': 3}\n",
      "Running inference for 3_4440.jpg\n",
      "{'images': [{'classifiers': [{'classifier_id': 'qd_2_2048362238', 'name': 'qd_2', 'classes': [{'class': 'low_quality', 'score': 0.625}]}], 'image': './images/3_4440.jpg'}], 'images_processed': 1, 'custom_classes': 3}\n",
      "Running inference for 3_3943.jpg\n",
      "{'images': [{'classifiers': [{'classifier_id': 'qd_2_2048362238', 'name': 'qd_2', 'classes': [{'class': 'low_quality', 'score': 0.574}, {'class': 'medium_quality', 'score': 0.696}]}], 'image': './images/3_3943.jpg'}], 'images_processed': 1, 'custom_classes': 3}\n",
      "Running inference for 3_5685.jpg\n",
      "{'images': [{'classifiers': [{'classifier_id': 'qd_2_2048362238', 'name': 'qd_2', 'classes': [{'class': 'medium_quality', 'score': 0.844}]}], 'image': './images/3_5685.jpg'}], 'images_processed': 1, 'custom_classes': 3}\n",
      "Running inference for 2_979.jpg\n",
      "{'images': [{'classifiers': [{'classifier_id': 'qd_2_2048362238', 'name': 'qd_2', 'classes': [{'class': 'high_quality', 'score': 0.776}]}], 'image': './images/2_979.jpg'}], 'images_processed': 1, 'custom_classes': 3}\n",
      "Running inference for 4_5979.jpg\n",
      "{'images': [{'classifiers': [{'classifier_id': 'qd_2_2048362238', 'name': 'qd_2', 'classes': [{'class': 'medium_quality', 'score': 0.898}]}], 'image': './images/4_5979.jpg'}], 'images_processed': 1, 'custom_classes': 3}\n",
      "Running inference for 3_1390.jpg\n",
      "{'images': [{'classifiers': [{'classifier_id': 'qd_2_2048362238', 'name': 'qd_2', 'classes': [{'class': 'high_quality', 'score': 0.595}, {'class': 'medium_quality', 'score': 0.624}]}], 'image': './images/3_1390.jpg'}], 'images_processed': 1, 'custom_classes': 3}\n",
      "Running inference for 3_5199.jpg\n",
      "{'images': [{'classifiers': [{'classifier_id': 'qd_2_2048362238', 'name': 'qd_2', 'classes': [{'class': 'high_quality', 'score': 0.726}, {'class': 'medium_quality', 'score': 0.5}]}], 'image': './images/3_5199.jpg'}], 'images_processed': 1, 'custom_classes': 3}\n",
      "Running inference for 3_3475.jpg\n",
      "{'images': [{'classifiers': [{'classifier_id': 'qd_2_2048362238', 'name': 'qd_2', 'classes': [{'class': 'low_quality', 'score': 0.717}, {'class': 'medium_quality', 'score': 0.544}]}], 'image': './images/3_3475.jpg'}], 'images_processed': 1, 'custom_classes': 3}\n",
      "Running inference for 3_3387.jpg\n",
      "{'images': [{'classifiers': [{'classifier_id': 'qd_2_2048362238', 'name': 'qd_2', 'classes': [{'class': 'low_quality', 'score': 0.891}]}], 'image': './images/3_3387.jpg'}], 'images_processed': 1, 'custom_classes': 3}\n",
      "Running inference for 3_4597.jpg\n",
      "{'images': [{'classifiers': [{'classifier_id': 'qd_2_2048362238', 'name': 'qd_2', 'classes': [{'class': 'low_quality', 'score': 0.891}]}], 'image': './images/3_4597.jpg'}], 'images_processed': 1, 'custom_classes': 3}\n",
      "Running inference for 3_5412.jpg\n",
      "{'images': [{'classifiers': [{'classifier_id': 'qd_2_2048362238', 'name': 'qd_2', 'classes': [{'class': 'low_quality', 'score': 0.577}, {'class': 'medium_quality', 'score': 0.584}]}], 'image': './images/3_5412.jpg'}], 'images_processed': 1, 'custom_classes': 3}\n",
      "Running inference for 3_2228.jpg\n",
      "{'images': [{'classifiers': [{'classifier_id': 'qd_2_2048362238', 'name': 'qd_2', 'classes': [{'class': 'medium_quality', 'score': 0.899}]}], 'image': './images/3_2228.jpg'}], 'images_processed': 1, 'custom_classes': 3}\n",
      "Running inference for 3_4644.jpg\n",
      "{'images': [{'classifiers': [{'classifier_id': 'qd_2_2048362238', 'name': 'qd_2', 'classes': [{'class': 'medium_quality', 'score': 0.903}]}], 'image': './images/3_4644.jpg'}], 'images_processed': 1, 'custom_classes': 3}\n",
      "Running inference for 3_4000.jpg\n",
      "{'images': [{'classifiers': [{'classifier_id': 'qd_2_2048362238', 'name': 'qd_2', 'classes': [{'class': 'medium_quality', 'score': 0.903}]}], 'image': './images/3_4000.jpg'}], 'images_processed': 1, 'custom_classes': 3}\n",
      "Running inference for 3_1322.jpg\n",
      "{'images': [{'classifiers': [{'classifier_id': 'qd_2_2048362238', 'name': 'qd_2', 'classes': [{'class': 'high_quality', 'score': 0.868}]}], 'image': './images/3_1322.jpg'}], 'images_processed': 1, 'custom_classes': 3}\n",
      "Running inference for 4_6849.jpg\n",
      "{'images': [{'classifiers': [{'classifier_id': 'qd_2_2048362238', 'name': 'qd_2', 'classes': [{'class': 'medium_quality', 'score': 0.859}]}], 'image': './images/4_6849.jpg'}], 'images_processed': 1, 'custom_classes': 3}\n",
      "Running inference for 3_1195.jpg\n",
      "{'images': [{'classifiers': [{'classifier_id': 'qd_2_2048362238', 'name': 'qd_2', 'classes': [{'class': 'low_quality', 'score': 0.614}, {'class': 'medium_quality', 'score': 0.561}]}], 'image': './images/3_1195.jpg'}], 'images_processed': 1, 'custom_classes': 3}\n",
      "Running inference for 4_6635.jpg\n",
      "{'images': [{'classifiers': [{'classifier_id': 'qd_2_2048362238', 'name': 'qd_2', 'classes': [{'class': 'medium_quality', 'score': 0.854}]}], 'image': './images/4_6635.jpg'}], 'images_processed': 1, 'custom_classes': 3}\n",
      "Running inference for 3_3717.jpg\n"
     ]
    },
    {
     "name": "stdout",
     "output_type": "stream",
     "text": [
      "{'images': [{'classifiers': [{'classifier_id': 'qd_2_2048362238', 'name': 'qd_2', 'classes': [{'class': 'medium_quality', 'score': 0.817}]}], 'image': './images/3_3717.jpg'}], 'images_processed': 1, 'custom_classes': 3}\n",
      "Running inference for 2_240.jpg\n",
      "{'images': [{'classifiers': [{'classifier_id': 'qd_2_2048362238', 'name': 'qd_2', 'classes': [{'class': 'low_quality', 'score': 0.826}]}], 'image': './images/2_240.jpg'}], 'images_processed': 1, 'custom_classes': 3}\n",
      "Running inference for 3_2874.jpg\n",
      "{'images': [{'classifiers': [{'classifier_id': 'qd_2_2048362238', 'name': 'qd_2', 'classes': [{'class': 'low_quality', 'score': 0.528}]}], 'image': './images/3_2874.jpg'}], 'images_processed': 1, 'custom_classes': 3}\n",
      "Running inference for 2_543.jpg\n",
      "{'images': [{'classifiers': [{'classifier_id': 'qd_2_2048362238', 'name': 'qd_2', 'classes': [{'class': 'high_quality', 'score': 0.71}]}], 'image': './images/2_543.jpg'}], 'images_processed': 1, 'custom_classes': 3}\n",
      "Running inference for 3_5428.jpg\n",
      "{'images': [{'classifiers': [{'classifier_id': 'qd_2_2048362238', 'name': 'qd_2', 'classes': [{'class': 'medium_quality', 'score': 0.89}]}], 'image': './images/3_5428.jpg'}], 'images_processed': 1, 'custom_classes': 3}\n",
      "Running inference for 4_6623.jpg\n",
      "{'images': [{'classifiers': [{'classifier_id': 'qd_2_2048362238', 'name': 'qd_2', 'classes': [{'class': 'medium_quality', 'score': 0.796}]}], 'image': './images/4_6623.jpg'}], 'images_processed': 1, 'custom_classes': 3}\n",
      "Running inference for 3_3749.jpg\n",
      "{'images': [{'classifiers': [{'classifier_id': 'qd_2_2048362238', 'name': 'qd_2', 'classes': [{'class': 'low_quality', 'score': 0.877}]}], 'image': './images/3_3749.jpg'}], 'images_processed': 1, 'custom_classes': 3}\n",
      "Running inference for 3_1151.jpg\n",
      "{'images': [{'classifiers': [{'classifier_id': 'qd_2_2048362238', 'name': 'qd_2', 'classes': [{'class': 'low_quality', 'score': 0.858}]}], 'image': './images/3_1151.jpg'}], 'images_processed': 1, 'custom_classes': 3}\n",
      "Running inference for 3_3705.jpg\n",
      "{'images': [{'classifiers': [{'classifier_id': 'qd_2_2048362238', 'name': 'qd_2', 'classes': [{'class': 'low_quality', 'score': 0.896}]}], 'image': './images/3_3705.jpg'}], 'images_processed': 1, 'custom_classes': 3}\n",
      "Running inference for 3_1284.jpg\n",
      "{'images': [{'classifiers': [{'classifier_id': 'qd_2_2048362238', 'name': 'qd_2', 'classes': [{'class': 'high_quality', 'score': 0.716}, {'class': 'medium_quality', 'score': 0.537}]}], 'image': './images/3_1284.jpg'}], 'images_processed': 1, 'custom_classes': 3}\n",
      "Running inference for 3_1992.jpg\n",
      "{'images': [{'classifiers': [{'classifier_id': 'qd_2_2048362238', 'name': 'qd_2', 'classes': [{'class': 'low_quality', 'score': 0.776}]}], 'image': './images/3_1992.jpg'}], 'images_processed': 1, 'custom_classes': 3}\n",
      "Running inference for 4_5991.jpg\n",
      "{'images': [{'classifiers': [{'classifier_id': 'qd_2_2048362238', 'name': 'qd_2', 'classes': [{'class': 'medium_quality', 'score': 0.843}]}], 'image': './images/4_5991.jpg'}], 'images_processed': 1, 'custom_classes': 3}\n",
      "Running inference for 3_5495.jpg\n",
      "{'images': [{'classifiers': [{'classifier_id': 'qd_2_2048362238', 'name': 'qd_2', 'classes': [{'class': 'low_quality', 'score': 0.884}]}], 'image': './images/3_5495.jpg'}], 'images_processed': 1, 'custom_classes': 3}\n",
      "Running inference for 3_3687.jpg\n",
      "{'images': [{'classifiers': [{'classifier_id': 'qd_2_2048362238', 'name': 'qd_2', 'classes': [{'class': 'high_quality', 'score': 0.833}]}], 'image': './images/3_3687.jpg'}], 'images_processed': 1, 'custom_classes': 3}\n",
      "Running inference for 3_3406.jpg\n",
      "{'images': [{'classifiers': [{'classifier_id': 'qd_2_2048362238', 'name': 'qd_2', 'classes': [{'class': 'high_quality', 'score': 0.749}]}], 'image': './images/3_3406.jpg'}], 'images_processed': 1, 'custom_classes': 3}\n",
      "Running inference for 3_3580.jpg\n",
      "{'images': [{'classifiers': [{'classifier_id': 'qd_2_2048362238', 'name': 'qd_2', 'classes': [{'class': 'medium_quality', 'score': 0.903}]}], 'image': './images/3_3580.jpg'}], 'images_processed': 1, 'custom_classes': 3}\n",
      "Running inference for 4_5977.jpg\n",
      "{'images': [{'classifiers': [{'classifier_id': 'qd_2_2048362238', 'name': 'qd_2', 'classes': [{'class': 'medium_quality', 'score': 0.844}]}], 'image': './images/4_5977.jpg'}], 'images_processed': 1, 'custom_classes': 3}\n",
      "Running inference for 3_2199.jpg\n",
      "{'images': [{'classifiers': [{'classifier_id': 'qd_2_2048362238', 'name': 'qd_2', 'classes': [{'class': 'medium_quality', 'score': 0.874}]}], 'image': './images/3_2199.jpg'}], 'images_processed': 1, 'custom_classes': 3}\n",
      "Running inference for 3_1618.jpg\n",
      "{'images': [{'classifiers': [{'classifier_id': 'qd_2_2048362238', 'name': 'qd_2', 'classes': [{'class': 'medium_quality', 'score': 0.828}]}], 'image': './images/3_1618.jpg'}], 'images_processed': 1, 'custom_classes': 3}\n",
      "Running inference for 3_5738.jpg\n",
      "{'images': [{'classifiers': [{'classifier_id': 'qd_2_2048362238', 'name': 'qd_2', 'classes': [{'class': 'medium_quality', 'score': 0.907}]}], 'image': './images/3_5738.jpg'}], 'images_processed': 1, 'custom_classes': 3}\n",
      "Running inference for 3_2743.jpg\n",
      "{'images': [{'classifiers': [{'classifier_id': 'qd_2_2048362238', 'name': 'qd_2', 'classes': [{'class': 'medium_quality', 'score': 0.88}]}], 'image': './images/3_2743.jpg'}], 'images_processed': 1, 'custom_classes': 3}\n",
      "Running inference for 3_4155.jpg\n",
      "{'images': [{'classifiers': [{'classifier_id': 'qd_2_2048362238', 'name': 'qd_2', 'classes': [{'class': 'medium_quality', 'score': 0.906}]}], 'image': './images/3_4155.jpg'}], 'images_processed': 1, 'custom_classes': 3}\n",
      "Running inference for 3_4298.jpg\n",
      "{'images': [{'classifiers': [{'classifier_id': 'qd_2_2048362238', 'name': 'qd_2', 'classes': [{'class': 'low_quality', 'score': 0.616}, {'class': 'medium_quality', 'score': 0.624}]}], 'image': './images/3_4298.jpg'}], 'images_processed': 1, 'custom_classes': 3}\n",
      "Running inference for 2_992.jpg\n",
      "{'images': [{'classifiers': [{'classifier_id': 'qd_2_2048362238', 'name': 'qd_2', 'classes': [{'class': 'medium_quality', 'score': 0.841}]}], 'image': './images/2_992.jpg'}], 'images_processed': 1, 'custom_classes': 3}\n",
      "Running inference for 2_567.jpg\n",
      "{'images': [{'classifiers': [{'classifier_id': 'qd_2_2048362238', 'name': 'qd_2', 'classes': [{'class': 'low_quality', 'score': 0.899}]}], 'image': './images/2_567.jpg'}], 'images_processed': 1, 'custom_classes': 3}\n",
      "Running inference for 3_3131.jpg\n",
      "{'images': [{'classifiers': [{'classifier_id': 'qd_2_2048362238', 'name': 'qd_2', 'classes': [{'class': 'medium_quality', 'score': 0.816}]}], 'image': './images/3_3131.jpg'}], 'images_processed': 1, 'custom_classes': 3}\n",
      "Running inference for 3_1994.jpg\n",
      "{'images': [{'classifiers': [{'classifier_id': 'qd_2_2048362238', 'name': 'qd_2', 'classes': [{'class': 'low_quality', 'score': 0.605}, {'class': 'medium_quality', 'score': 0.671}]}], 'image': './images/3_1994.jpg'}], 'images_processed': 1, 'custom_classes': 3}\n",
      "Running inference for 3_1705.jpg\n",
      "{'images': [{'classifiers': [{'classifier_id': 'qd_2_2048362238', 'name': 'qd_2', 'classes': [{'class': 'medium_quality', 'score': 0.829}]}], 'image': './images/3_1705.jpg'}], 'images_processed': 1, 'custom_classes': 3}\n",
      "Running inference for 2_513.jpg\n",
      "{'images': [{'classifiers': [{'classifier_id': 'qd_2_2048362238', 'name': 'qd_2', 'classes': [{'class': 'medium_quality', 'score': 0.817}]}], 'image': './images/2_513.jpg'}], 'images_processed': 1, 'custom_classes': 3}\n",
      "Running inference for 4_6144.jpg\n",
      "{'images': [{'classifiers': [{'classifier_id': 'qd_2_2048362238', 'name': 'qd_2', 'classes': [{'class': 'low_quality', 'score': 0.813}]}], 'image': './images/4_6144.jpg'}], 'images_processed': 1, 'custom_classes': 3}\n",
      "Running inference for 4_6624.jpg\n",
      "{'images': [{'classifiers': [{'classifier_id': 'qd_2_2048362238', 'name': 'qd_2', 'classes': [{'class': 'medium_quality', 'score': 0.701}]}], 'image': './images/4_6624.jpg'}], 'images_processed': 1, 'custom_classes': 3}\n",
      "Running inference for 3_4139.jpg\n",
      "{'images': [{'classifiers': [{'classifier_id': 'qd_2_2048362238', 'name': 'qd_2', 'classes': [{'class': 'medium_quality', 'score': 0.895}]}], 'image': './images/3_4139.jpg'}], 'images_processed': 1, 'custom_classes': 3}\n",
      "Running inference for 3_3178.jpg\n",
      "{'images': [{'classifiers': [{'classifier_id': 'qd_2_2048362238', 'name': 'qd_2', 'classes': [{'class': 'low_quality', 'score': 0.746}, {'class': 'medium_quality', 'score': 0.502}]}], 'image': './images/3_3178.jpg'}], 'images_processed': 1, 'custom_classes': 3}\n",
      "Running inference for 4_6593.jpg\n"
     ]
    },
    {
     "name": "stdout",
     "output_type": "stream",
     "text": [
      "{'images': [{'classifiers': [{'classifier_id': 'qd_2_2048362238', 'name': 'qd_2', 'classes': [{'class': 'medium_quality', 'score': 0.723}]}], 'image': './images/4_6593.jpg'}], 'images_processed': 1, 'custom_classes': 3}\n",
      "Running inference for 2_449.jpg\n",
      "{'images': [{'classifiers': [{'classifier_id': 'qd_2_2048362238', 'name': 'qd_2', 'classes': [{'class': 'low_quality', 'score': 0.891}]}], 'image': './images/2_449.jpg'}], 'images_processed': 1, 'custom_classes': 3}\n",
      "Running inference for 3_1133.jpg\n",
      "{'images': [{'classifiers': [{'classifier_id': 'qd_2_2048362238', 'name': 'qd_2', 'classes': [{'class': 'low_quality', 'score': 0.772}]}], 'image': './images/3_1133.jpg'}], 'images_processed': 1, 'custom_classes': 3}\n",
      "['3_3326.jpg', '2_924.jpg', '4_6243.jpg', '3_5292.jpg', '3_5202.jpg', '2_950.jpg', '3_1675.jpg', '3_3751.jpg', '3_5443.jpg', '4_6864.jpg', '3_1267.jpg', '3_4630.jpg', '4_7127.jpg', '3_4370.jpg', '2_996.jpg', '2_571.jpg', '3_4440.jpg', '3_3943.jpg', '2_979.jpg', '3_1390.jpg', '3_5199.jpg', '3_3475.jpg', '3_5412.jpg', '3_1195.jpg', '3_2874.jpg', '2_543.jpg', '4_6623.jpg', '3_1284.jpg', '3_1992.jpg', '3_3406.jpg', '3_4298.jpg', '3_1994.jpg', '4_6624.jpg', '3_3178.jpg', '4_6593.jpg', '3_1133.jpg']\n"
     ]
    }
   ],
   "source": [
    "confidence_sampling()"
   ]
  },
  {
   "cell_type": "code",
   "execution_count": 98,
   "metadata": {},
   "outputs": [
    {
     "name": "stdout",
     "output_type": "stream",
     "text": [
      "Running inferences for classifier qd_2_2048362238...\n",
      "Running inference for 1_70.jpg\n",
      "{'images': [{'classifiers': [{'classifier_id': 'qd_2_2048362238', 'name': 'qd_2', 'classes': [{'class': 'low_quality', 'score': 0.862}]}], 'image': './test_images/1_70.jpg'}], 'images_processed': 1, 'custom_classes': 3}\n",
      "Running inference for 1_71.jpg\n",
      "{'images': [{'classifiers': [{'classifier_id': 'qd_2_2048362238', 'name': 'qd_2', 'classes': [{'class': 'low_quality', 'score': 0.879}]}], 'image': './test_images/1_71.jpg'}], 'images_processed': 1, 'custom_classes': 3}\n",
      "Running inference for 1_72.jpg\n",
      "{'images': [{'classifiers': [{'classifier_id': 'qd_2_2048362238', 'name': 'qd_2', 'classes': [{'class': 'low_quality', 'score': 0.872}]}], 'image': './test_images/1_72.jpg'}], 'images_processed': 1, 'custom_classes': 3}\n",
      "Running inference for 1_73.jpg\n",
      "{'images': [{'classifiers': [{'classifier_id': 'qd_2_2048362238', 'name': 'qd_2', 'classes': [{'class': 'medium_quality', 'score': 0.758}]}], 'image': './test_images/1_73.jpg'}], 'images_processed': 1, 'custom_classes': 3}\n",
      "Running inference for 1_74.jpg\n",
      "{'images': [{'classifiers': [{'classifier_id': 'qd_2_2048362238', 'name': 'qd_2', 'classes': [{'class': 'low_quality', 'score': 0.516}, {'class': 'medium_quality', 'score': 0.666}]}], 'image': './test_images/1_74.jpg'}], 'images_processed': 1, 'custom_classes': 3}\n",
      "Running inference for 2_84.jpg\n",
      "{'images': [{'classifiers': [{'classifier_id': 'qd_2_2048362238', 'name': 'qd_2', 'classes': [{'class': 'medium_quality', 'score': 0.851}]}], 'image': './test_images/2_84.jpg'}], 'images_processed': 1, 'custom_classes': 3}\n",
      "Running inference for 2_85.jpg\n",
      "{'images': [{'classifiers': [{'classifier_id': 'qd_2_2048362238', 'name': 'qd_2', 'classes': [{'class': 'medium_quality', 'score': 0.863}]}], 'image': './test_images/2_85.jpg'}], 'images_processed': 1, 'custom_classes': 3}\n",
      "Running inference for 2_86.jpg\n",
      "{'images': [{'classifiers': [{'classifier_id': 'qd_2_2048362238', 'name': 'qd_2', 'classes': [{'class': 'low_quality', 'score': 0.815}]}], 'image': './test_images/2_86.jpg'}], 'images_processed': 1, 'custom_classes': 3}\n",
      "Running inference for 2_87.jpg\n",
      "{'images': [{'classifiers': [{'classifier_id': 'qd_2_2048362238', 'name': 'qd_2', 'classes': [{'class': 'low_quality', 'score': 0.556}, {'class': 'medium_quality', 'score': 0.682}]}], 'image': './test_images/2_87.jpg'}], 'images_processed': 1, 'custom_classes': 3}\n",
      "Running inference for 2_88.jpg\n",
      "{'images': [{'classifiers': [{'classifier_id': 'qd_2_2048362238', 'name': 'qd_2', 'classes': [{'class': 'medium_quality', 'score': 0.739}]}], 'image': './test_images/2_88.jpg'}], 'images_processed': 1, 'custom_classes': 3}\n",
      "Running inference for 3_4340.jpg\n",
      "{'images': [{'classifiers': [{'classifier_id': 'qd_2_2048362238', 'name': 'qd_2', 'classes': [{'class': 'medium_quality', 'score': 0.844}]}], 'image': './test_images/3_4340.jpg'}], 'images_processed': 1, 'custom_classes': 3}\n",
      "Running inference for 3_4341.jpg\n",
      "{'images': [{'classifiers': [{'classifier_id': 'qd_2_2048362238', 'name': 'qd_2', 'classes': [{'class': 'medium_quality', 'score': 0.901}]}], 'image': './test_images/3_4341.jpg'}], 'images_processed': 1, 'custom_classes': 3}\n",
      "Running inference for 3_4342.jpg\n",
      "{'images': [{'classifiers': [{'classifier_id': 'qd_2_2048362238', 'name': 'qd_2', 'classes': [{'class': 'medium_quality', 'score': 0.844}]}], 'image': './test_images/3_4342.jpg'}], 'images_processed': 1, 'custom_classes': 3}\n",
      "Running inference for 3_4343.jpg\n",
      "{'images': [{'classifiers': [{'classifier_id': 'qd_2_2048362238', 'name': 'qd_2', 'classes': [{'class': 'medium_quality', 'score': 0.753}]}], 'image': './test_images/3_4343.jpg'}], 'images_processed': 1, 'custom_classes': 3}\n",
      "Running inference for 3_4344.jpg\n",
      "{'images': [{'classifiers': [{'classifier_id': 'qd_2_2048362238', 'name': 'qd_2', 'classes': [{'class': 'medium_quality', 'score': 0.658}]}], 'image': './test_images/3_4344.jpg'}], 'images_processed': 1, 'custom_classes': 3}\n",
      "Running inference for 4_6050.jpg\n",
      "{'images': [{'classifiers': [{'classifier_id': 'qd_2_2048362238', 'name': 'qd_2', 'classes': [{'class': 'high_quality', 'score': 0.732}]}], 'image': './test_images/4_6050.jpg'}], 'images_processed': 1, 'custom_classes': 3}\n",
      "Running inference for 4_6051.jpg\n",
      "{'images': [{'classifiers': [{'classifier_id': 'qd_2_2048362238', 'name': 'qd_2', 'classes': [{'class': 'medium_quality', 'score': 0.893}]}], 'image': './test_images/4_6051.jpg'}], 'images_processed': 1, 'custom_classes': 3}\n",
      "Running inference for 4_6052.jpg\n",
      "{'images': [{'classifiers': [{'classifier_id': 'qd_2_2048362238', 'name': 'qd_2', 'classes': [{'class': 'medium_quality', 'score': 0.816}]}], 'image': './test_images/4_6052.jpg'}], 'images_processed': 1, 'custom_classes': 3}\n",
      "Running inference for 4_6053.jpg\n",
      "{'images': [{'classifiers': [{'classifier_id': 'qd_2_2048362238', 'name': 'qd_2', 'classes': [{'class': 'high_quality', 'score': 0.814}]}], 'image': './test_images/4_6053.jpg'}], 'images_processed': 1, 'custom_classes': 3}\n",
      "Running inference for 4_6054.jpg\n",
      "{'images': [{'classifiers': [{'classifier_id': 'qd_2_2048362238', 'name': 'qd_2', 'classes': [{'class': 'medium_quality', 'score': 0.852}]}], 'image': './test_images/4_6054.jpg'}], 'images_processed': 1, 'custom_classes': 3}\n",
      "Running inference for 5_7171.jpg\n",
      "{'images': [{'classifiers': [{'classifier_id': 'qd_2_2048362238', 'name': 'qd_2', 'classes': [{'class': 'medium_quality', 'score': 0.863}]}], 'image': './test_images/5_7171.jpg'}], 'images_processed': 1, 'custom_classes': 3}\n",
      "Running inference for 5_7172.jpg\n",
      "{'images': [{'classifiers': [{'classifier_id': 'qd_2_2048362238', 'name': 'qd_2', 'classes': [{'class': 'high_quality', 'score': 0.735}, {'class': 'medium_quality', 'score': 0.503}]}], 'image': './test_images/5_7172.jpg'}], 'images_processed': 1, 'custom_classes': 3}\n",
      "Running inference for 5_7174.jpg\n",
      "{'images': [{'classifiers': [{'classifier_id': 'qd_2_2048362238', 'name': 'qd_2', 'classes': [{'class': 'high_quality', 'score': 0.885}]}], 'image': './test_images/5_7174.jpg'}], 'images_processed': 1, 'custom_classes': 3}\n",
      "Running inference for 5_7200.jpg\n",
      "{'images': [{'classifiers': [{'classifier_id': 'qd_2_2048362238', 'name': 'qd_2', 'classes': [{'class': 'medium_quality', 'score': 0.868}]}], 'image': './test_images/5_7200.jpg'}], 'images_processed': 1, 'custom_classes': 3}\n",
      "Running inference for 5_7201.jpg\n",
      "{'images': [{'classifiers': [{'classifier_id': 'qd_2_2048362238', 'name': 'qd_2', 'classes': [{'class': 'medium_quality', 'score': 0.745}]}], 'image': './test_images/5_7201.jpg'}], 'images_processed': 1, 'custom_classes': 3}\n",
      "Accuracy: 0.6\n"
     ]
    },
    {
     "data": {
      "image/png": "[encoded data removed]",
      "text/plain": [
       "<Figure size 432x288 with 1 Axes>"
      ]
     },
     "metadata": {},
     "output_type": "display_data"
    }
   ],
   "source": [
    "\"\"\"\n",
    "Use this code to test your classifier after each round of confidence sampling and plot your results\n",
    "\"\"\"\n",
    "test_classifier('c1', WATSON_CLASSIFIER_ID_2)\n",
    "plt.plot(classifier_stats['c1'])\n",
    "plt.show()"
   ]
  },
  {
   "cell_type": "markdown",
   "metadata": {},
   "source": [
    "# Exercise 2: Margin Sampling\n",
    "In this exercise we will use margin sampling to train a third classifier. In margin sampling we want to look at the various predictions provided by the classifier and determine what threshold should be set in order to label the least number of images while getting the most performance gains out of the classifier.\n",
    "\n",
    "An example of margin sampling could be to manually label any item where the top two predictions are within 20% confidence of one another.\n",
    "\n",
    "For example:\n",
    "\n",
    "`\n",
    "Image 1: {'high_quality': 0.77, 'medium_quality': 0.73, 'low_quality': 0.01}\n",
    "`\n",
    "\n",
    "Here we can see that \"high_quality\" and \"medium_quality\" are very close and we should get an explicit label to make it apparent which one we should use.\n",
    "\n",
    "#### NOTE: Make sure to run a preliminary test to get a baseline accuracy of your model"
   ]
  },
  {
   "cell_type": "code",
   "execution_count": null,
   "metadata": {},
   "outputs": [],
   "source": [
    "\"\"\"\n",
    "Run preliminary test of classifier to get baseline accuracy\n",
    "\"\"\"\n",
    "test_classifier('c2', WATSON_CLASSIFIER_ID_3)\n",
    "plt.plot(classifier_stats['c2'], 'ro')\n",
    "plt.show()"
   ]
  },
  {
   "cell_type": "code",
   "execution_count": 167,
   "metadata": {},
   "outputs": [],
   "source": [
    "def margin_sampling(threshold):\n",
    "    images = choose_images(20) # You can select the number of images you want to test\n",
    "    inferences = run_inferences(images, IMAGE_DIRECTORY)\n",
    "    for image in inferences:\n",
    "        # TODO: fill in your margin sampling method here\n",
    "        # Based on the margin of confidence in the resulting predictions\n",
    "        # you should decide which examples you want to manually label\n",
    "        # and then create the required zips with those images"
   ]
  },
  {
   "cell_type": "code",
   "execution_count": null,
   "metadata": {},
   "outputs": [],
   "source": [
    "\"\"\"\n",
    "Write your code here to test your classifier after each round of training\n",
    "This should be WATSON_CLASSIFIER_ID_3 and classifier_stats['c2']\n",
    "HINT: This is similar to the test and plot code bits used in previous exercises\n",
    "\"\"\""
   ]
  },
  {
   "cell_type": "markdown",
   "metadata": {},
   "source": [
    "# Exercise 3: Query by Committee\n",
    "In this exercise we want to create a query by committee strategy. You have a couple options.\n",
    "\n",
    "1. Use the three classifiers you trained above as your \"committee\" and update all classifiers\n",
    "2. Delete the three classifiers and create three new ones to be used for the query by committee.\n",
    "\n",
    "Three different intializer datasets are provided so feel free to use those to create your initial classifiers.\n",
    "\n",
    "#### NOTE: Make sure to run a preliminary test to get a baseline accuracy of your model"
   ]
  },
  {
   "cell_type": "code",
   "execution_count": 99,
   "metadata": {},
   "outputs": [],
   "source": [
    "def query_by_committee():\n",
    "    model_1 = m1\n",
    "    model_2 = m2\n",
    "    model_3 = m3\n",
    "    images = choose_images(20)\n",
    "    for image in images:\n",
    "        inf1 = model_1(image) # inf1 = 0.7 (low)\n",
    "        inf2 = model_2(image) # inf2 = 0.67 (low)\n",
    "        inf3 = model_3(image) # inf3 = 0.5 (medium)\n",
    "        # option 1\n",
    "        if class(inf1) == class(inf2) == class(inf3):\n",
    "            continue\n",
    "        else:\n",
    "            to_label.append(image)\n",
    "        # option 2\n",
    "        if class(inf1) == class(inf2) == class(inf3):\n",
    "            if conf(inf1 || inf2 || inf3) < 0.7:\n",
    "                to_label.append(image)\n",
    "            else:\n",
    "                continue\n",
    "    # TODO: Create a query by committee function.\n",
    "    # Like before the goal should be to create three zip files in this\n",
    "    # function that will be the training data to be added to the classifier\n",
    "    # Also after each round of training we want to run our test to see how\n",
    "    # the accuracy is improving."
   ]
  },
  {
   "cell_type": "code",
   "execution_count": null,
   "metadata": {},
   "outputs": [],
   "source": [
    "\"\"\"\n",
    "Write your code here to test your classifier after each round of training\n",
    "This should be WATSON_CLASSIFIER_ID_3 and classifier_stats['c3']\n",
    "HINT: This is similar to the test and plot code bits used in previous exercises\n",
    "\"\"\""
   ]
  },
  {
   "cell_type": "markdown",
   "metadata": {},
   "source": [
    "# Exercise 4: Build your own\n",
    "In this exercise you will build your own query function using any of the methods used previous. This is where you should get creative and think about the best query strategy to train a model with the least amount of data.\n",
    "\n",
    "#### NOTE: Make sure to run a preliminary test to get a baseline accuracy of your model"
   ]
  },
  {
   "cell_type": "code",
   "execution_count": 169,
   "metadata": {},
   "outputs": [],
   "source": [
    "def my_strategy():\n",
    "    pass\n",
    "    # TODO: Fill in your custom query function here"
   ]
  },
  {
   "cell_type": "code",
   "execution_count": 170,
   "metadata": {},
   "outputs": [
    {
     "data": {
      "text/plain": [
       "'\\nWrite your code here to test your classifier after each round of training\\nHINT: This is similar to the test and plot code bits used in previous exercises\\n'"
      ]
     },
     "execution_count": 170,
     "metadata": {},
     "output_type": "execute_result"
    }
   ],
   "source": [
    "\"\"\"\n",
    "Write your code here to test your classifier after each round of training\n",
    "HINT: This is similar to the test and plot code bits used in previous exercises\n",
    "\"\"\""
   ]
  },
  {
   "cell_type": "code",
   "execution_count": null,
   "metadata": {},
   "outputs": [],
   "source": []
  }
 ],
 "metadata": {
  "kernelspec": {
   "display_name": "active_learning",
   "language": "python",
   "name": "active_learning"
  },
  "language_info": {
   "codemirror_mode": {
    "name": "ipython",
    "version": 3
   },
   "file_extension": ".py",
   "mimetype": "text/x-python",
   "name": "python",
   "nbconvert_exporter": "python",
   "pygments_lexer": "ipython3",
   "version": "3.6.4"
  }
 },
 "nbformat": 4,
 "nbformat_minor": 2
}
