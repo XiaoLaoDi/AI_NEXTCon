{
 "cells": [
  {
   "cell_type": "markdown",
   "metadata": {},
   "source": [
    "# Active Learning Workshop: Beijing - Part I\n",
    "In this course we will run through a series of exercises that will illustrate how to use different variations of active learning. The goal in active learning it to train models that will use less data in a more intelligent way thereby resulting in increased accuracy.\n",
    "\n",
    "To get started make sure to copy the data onto your machine!"
   ]
  },
  {
   "cell_type": "code",
   "execution_count": 6,
   "metadata": {},
   "outputs": [],
   "source": [
    "# function to train classifier\n",
    "from __future__ import absolute_import\n",
    "from __future__ import division\n",
    "from __future__ import print_function\n",
    "\n",
    "import argparse\n",
    "import os.path\n",
    "import sys\n",
    "import shutil\n",
    "import glob\n",
    "import random\n",
    "import matplotlib.pyplot as plt\n",
    "\n",
    "import tensorflow as tf\n",
    "\n",
    "EXPERIMENT_RESULTS = None\n",
    "\n",
    "ROOT_DATA = '/Users/kvajapey/Documents/CrowdFlower/Conferences/Beijing/workshop/data/gender_detection/' #!! SET THIS FOLDER!\n",
    "\n",
    "TRAIN_FLAGS = {\n",
    "    'background_frequency':0.1,\n",
    "    'background_volume':0.1,\n",
    "    'batch_size':20,\n",
    "    'check_nans':False,\n",
    "    'clip_duration_ms':10000,\n",
    "    'data_dir':'', #/Users/kvajapey/Documents/CrowdFlower/Conferences/Beijing/workshop/data/gender_detection/training_data/supervised\n",
    "    'data_url':'',\n",
    "    'eval_step_interval':10,\n",
    "    'feature_bin_count':40,\n",
    "    'how_many_training_steps':'1,1',\n",
    "    'learning_rate':'0.001,0.0001',\n",
    "    'model_architecture':'conv',\n",
    "    'preprocess':'mfcc',\n",
    "    'quantize':False,\n",
    "    'sample_rate':48000,\n",
    "    'save_step_interval':10,\n",
    "    'silence_percentage':0,\n",
    "    'start_checkpoint':'',\n",
    "    'summaries_dir':'/tmp/retrain_logs',\n",
    "    'testing_percentage':5,\n",
    "    'time_shift_ms':100.0,\n",
    "    'train_dir':'/tmp/speech_commands_train',\n",
    "    'unknown_percentage':0,\n",
    "    'validation_percentage':5,\n",
    "    'wanted_words':'male,female',\n",
    "    'window_size_ms':30.0,\n",
    "    'window_stride_ms':10.0\n",
    "}\n",
    "\n",
    "FREEZE_FLAGS = {\n",
    "    'clip_duration_ms':10000,\n",
    "    'clip_stride_ms':30,\n",
    "    'feature_bin_count':40,\n",
    "    'model_architecture':'conv',\n",
    "    'output_file':'',       # frozen.pb\n",
    "    'preprocess':'mfcc',\n",
    "    'quantize':False,\n",
    "    'sample_rate':48000,\n",
    "    'start_checkpoint':'',  # /tmp/speech_commands_train/conv.ckpt-2\n",
    "    'wanted_words':'male,female',\n",
    "    'window_size_ms':30.0,\n",
    "    'window_stride_ms':10.0\n",
    "}\n",
    "\n",
    "INFERENCE_FLAGS = {\n",
    "    'wav_dir':'',      # /Users/kvajapey/Documents/CrowdFlower/Conferences/Beijing/workshop/data/gender_detection/female_test\n",
    "    'graph':'',        # /Users/kvajapey/Documents/CrowdFlower/repos/AI_NEXTCon/frozen.pb\n",
    "    'labels':'',       # /tmp/speech_commands_train/conv_labels.txt\n",
    "    'input_name': 'wav_data:0',\n",
    "    'output_name': 'labels_softmax:0',\n",
    "    'how_many_labels': 2\n",
    "}\n",
    "\n",
    "CLASSIFIER_STATS = {\n",
    "    'supervised_learning' : {'x':[], 'y':[]}\n",
    "}\n"
   ]
  },
  {
   "cell_type": "code",
   "execution_count": 2,
   "metadata": {},
   "outputs": [],
   "source": [
    "from speech_commands import train\n",
    "from speech_commands import freeze\n",
    "from speech_commands import label_wav_dir\n",
    "\n",
    "def train_model(_):\n",
    "    tf.reset_default_graph()\n",
    "    train.main(TRAIN_FLAGS)\n",
    "\n",
    "def run_training(directory):\n",
    "    if not directory:\n",
    "        return \"Please input directory with training folders\"\n",
    "    TRAIN_FLAGS['data_dir'] = directory\n",
    "    #train_model('done')\n",
    "    tf.app.run(main=train_model, argv=['train.py'])\n",
    "\n",
    "def freeze_model(_):\n",
    "    tf.reset_default_graph()\n",
    "    freeze.main(FREEZE_FLAGS)\n",
    "\n",
    "def run_freeze(checkpoint, model_out):\n",
    "    if not checkpoint or not model_out:\n",
    "        return \"Please input the checkpoint to freeze and the name of the output model\"\n",
    "    FREEZE_FLAGS['start_checkpoint'] = checkpoint\n",
    "    FREEZE_FLAGS['output_file'] = model_out\n",
    "    freeze_model('done')\n",
    "    ckpts = glob.glob('/tmp/speech_commands_train/conv.*')\n",
    "    for f in ckpts:\n",
    "        os.remove(f)\n",
    "    os.remove('/tmp/speech_commands_train/checkpoint')\n",
    "    #tf.app.run(main=freeze_model, argv=['freeze.py'])\n",
    "\n",
    "def inference_model(_):\n",
    "    global EXPERIMENT_RESULTS\n",
    "    EXPERIMENT_RESULTS = label_wav_dir.main(INFERENCE_FLAGS)\n",
    "\n",
    "def run_inference(directory, model, labels):\n",
    "    if not directory:\n",
    "        return \"Please input the directory with wav files\"\n",
    "    if not model:\n",
    "        return \"Please input the model for inference\"\n",
    "    if not labels:\n",
    "        return \"Please input the file with labels\"\n",
    "    INFERENCE_FLAGS['wav_dir'] = directory\n",
    "    INFERENCE_FLAGS['graph'] = model\n",
    "    INFERENCE_FLAGS['labels'] = labels\n",
    "    print(INFERENCE_FLAGS)\n",
    "    inference_model('done')\n",
    "    #tf.app.run(main=inference_model, argv=['label_wav_dir.py'])\n",
    "    \n",
    "def test(query_strategy, test_folder, model, labels):\n",
    "    # run inferences on male and female test sets\n",
    "    male_audio = test_folder + '/male'\n",
    "    female_audio = test_folder + '/female'\n",
    "    total_male = 0\n",
    "    total_female = 0\n",
    "    correct_male = 0\n",
    "    incorrect_male = 0\n",
    "    correct_female = 0\n",
    "    incorrect_female = 0\n",
    "    # male test\n",
    "    run_inference(male_audio, model, labels)\n",
    "    for row in EXPERIMENT_RESULTS:\n",
    "        total_male += 1\n",
    "        if 'male' in row and 'female' in row:\n",
    "            if row['male'] > row['female']:\n",
    "                correct_male += 1\n",
    "            else:\n",
    "                incorrect_male += 1\n",
    "        else:\n",
    "            if 'male' in row:\n",
    "                correct_male += 1\n",
    "            elif 'female' in row:\n",
    "                incorrect_male += 1\n",
    "    # female test\n",
    "    run_inference(female_audio, model, labels)\n",
    "    for row in EXPERIMENT_RESULTS:\n",
    "        total_female += 1\n",
    "        if 'male' in row and 'female' in row:\n",
    "            if row['male'] > row['female']:\n",
    "                incorrect_female += 1\n",
    "            else:\n",
    "                correct_female += 1\n",
    "        else:\n",
    "            if 'male' in row:\n",
    "                incorrect_female += 1\n",
    "            elif 'female' in row:\n",
    "                correct_female += 1\n",
    "    total = total_male + total_female\n",
    "    total_correct = correct_male + correct_female\n",
    "    total_incorrect = incorrect_male + incorrect_female\n",
    "    tpr = total_correct / total\n",
    "    fpr = total_incorrect / total\n",
    "    qs_train_size = 0\n",
    "    male_count = len(glob.glob(ROOT_DATA + query_strategy + '/train/male/*.wav'))\n",
    "    female_count = len(glob.glob(ROOT_DATA + query_strategy + '/train/female/*.wav'))\n",
    "    qs_train_size = male_count + female_count\n",
    "    x = qs_train_size\n",
    "    y = tpr\n",
    "    if query_strategy in CLASSIFIER_STATS:\n",
    "        CLASSIFIER_STATS[query_strategy]['x'].append(x)\n",
    "        CLASSIFIER_STATS[query_strategy]['y'].append(y)\n",
    "    else:\n",
    "        CLASSIFIER_STATS[query_strategy] = {'x':[x], 'y':[y]}\n",
    "    return 'Accuracy is ' + str(tpr) + '%'\n",
    "    "
   ]
  },
  {
   "cell_type": "code",
   "execution_count": 3,
   "metadata": {},
   "outputs": [
    {
     "data": {
      "text/plain": [
       "'\\nEXAMPLES TO CALL THE FUNCTIONS\\n'"
      ]
     },
     "execution_count": 3,
     "metadata": {},
     "output_type": "execute_result"
    }
   ],
   "source": [
    "\"\"\"\n",
    "EXAMPLES TO CALL THE FUNCTIONS\n",
    "\"\"\"\n",
    "# run training of the model\n",
    "# run_training(ROOT_DATA + 'supervised_learning/train')\n",
    "\n",
    "# freeze the model\n",
    "# run_freeze('/tmp/speech_commands_train/conv.ckpt-2', 'supervised_1.pb')\n",
    "\n",
    "# run inferences\n",
    "# run_inference(ROOT_DATA + 'confidence_sampling/unlabeled', 'confidence_sampling_1.pb', '/tmp/speech_commands_train/conv_labels.txt')\n",
    "\n",
    "# run test\n",
    "# test('supervised_learning', ROOT_DATA + '/test', 'supervised_1.pb', '/tmp/speech_commands_train/conv_labels.txt')"
   ]
  },
  {
   "cell_type": "code",
   "execution_count": 4,
   "metadata": {},
   "outputs": [],
   "source": [
    "\"\"\"\n",
    "Helper functions for Active Learning Workshop\n",
    "\"\"\"\n",
    "\n",
    "def prep_query_strategy(name):\n",
    "    qs_folder = ROOT_DATA + name\n",
    "    if not os.path.exists(qs_folder):\n",
    "        os.mkdir(qs_folder)\n",
    "    unlabeled = qs_folder + '/unlabeled'\n",
    "    train = qs_folder + '/train'\n",
    "    male = train + '/male'\n",
    "    female = train + '/female'\n",
    "    if not os.path.exists(unlabeled):\n",
    "        os.mkdir(unlabeled)\n",
    "    if not os.path.exists(train):\n",
    "        os.mkdir(train)\n",
    "    if not os.path.exists(male):\n",
    "        os.mkdir(male)\n",
    "    if not os.path.exists(female):\n",
    "        os.mkdir(female)\n",
    "    files = glob.glob(ROOT_DATA + '/unlabeled/*')\n",
    "    for f in files:\n",
    "        fname = f.split('/')[-1]\n",
    "        new_loc = unlabeled + '/' + fname\n",
    "        if not os.path.exists(new_loc):\n",
    "            shutil.copyfile(f, new_loc)\n",
    "    \n",
    "    \n",
    "def random_seed_data(query_strategy):\n",
    "    qs_folder = ROOT_DATA + query_strategy\n",
    "    if not os.path.exists(qs_folder):\n",
    "        prep_query_strategy(query_strategy)\n",
    "    unlabeled = qs_folder + '/unlabeled'\n",
    "    files = glob.glob(unlabeled + '/*.wav')\n",
    "    seed_data = random.sample(files, 100)\n",
    "    male = 0\n",
    "    female = 0\n",
    "    train = qs_folder + '/train'\n",
    "    for s in seed_data:\n",
    "        fn = s.split('/')[-1]\n",
    "        mf = fn.split('_')[0]\n",
    "\n",
    "        if mf == 'male':\n",
    "            dest = train + '/male/' + fn\n",
    "            male += 1\n",
    "        else:\n",
    "            dest = train + '/female/' + fn\n",
    "            female += 1\n",
    "        shutil.move(s, dest)\n",
    "    print('Male examples: ' + str(male))\n",
    "    print('Female examples: ' + str(female))\n",
    "\n",
    "def label_data(query_strategy, data):\n",
    "    qs_folder = ROOT_DATA + query_strategy\n",
    "    train = qs_folder + '/train'\n",
    "    male_count = 0\n",
    "    female_count = 0\n",
    "    for f in data:\n",
    "        fn = f.split('/')[-1]\n",
    "        label = fn.split('_')[0]\n",
    "        if label == 'male':\n",
    "            dest = train + '/male/' + fn\n",
    "            male_count += 1\n",
    "        else:\n",
    "            dest = train + '/female/' + fn\n",
    "            female_count += 1\n",
    "        shutil.move(f, dest)\n",
    "    print('Successfully labeled ' + str(male_count) + ' male audio')\n",
    "    print('Successfully labeled ' + str(female_count) + ' female audio')"
   ]
  },
  {
   "cell_type": "markdown",
   "metadata": {},
   "source": [
    "# Exercise 0: Supervised Learning\n",
    "In the exercise we will use basic supervised learning to update the classifier. This works by selecting a random set of data, labeling that data, and using that to train each class of the classifier.\n",
    "\n",
    "First, we will test the new classifier that we created. Once we have a baseline accuracy we will use the `supervised_learning()` function to get new batches of data for each class in the form of .zip files which we will use to update each class of the Watson classifier.\n",
    "\n",
    "Use the function below to automatically select random data, get the labels, and create the zip files required to add to each class of the Watson classifier."
   ]
  },
  {
   "cell_type": "code",
   "execution_count": 7,
   "metadata": {},
   "outputs": [
    {
     "name": "stdout",
     "output_type": "stream",
     "text": [
      "Male examples: 50\n",
      "Female examples: 50\n"
     ]
    }
   ],
   "source": [
    "\"\"\"\n",
    "This cell initialized the data for supervised learning strategy\n",
    "\"\"\"\n",
    "prep_query_strategy('supervised_learning')\n",
    "random_seed_data('supervised_learning')"
   ]
  },
  {
   "cell_type": "code",
   "execution_count": 8,
   "metadata": {},
   "outputs": [
    {
     "name": "stdout",
     "output_type": "stream",
     "text": [
      "INFO:tensorflow:Training from step: 1 \n",
      "INFO:tensorflow:Step #1: rate 0.001000, accuracy 40.0%, cross entropy 1.374513\n",
      "INFO:tensorflow:Step #2: rate 0.000100, accuracy 40.0%, cross entropy 2.200936\n",
      "INFO:tensorflow:Confusion Matrix:\n",
      " [[ 0  0  0  0]\n",
      " [ 0  0  0  0]\n",
      " [ 0  0 16  0]\n",
      " [ 0  0 18  0]]\n",
      "INFO:tensorflow:Step 2: Validation accuracy = 47.1% (N=34)\n",
      "INFO:tensorflow:Saving to \"/tmp/speech_commands_train/conv.ckpt-2\"\n",
      "INFO:tensorflow:set_size=46\n",
      "INFO:tensorflow:Confusion Matrix:\n",
      " [[ 0  0  0  0]\n",
      " [ 0  0  0  0]\n",
      " [ 0  0 21  0]\n",
      " [ 0  0 25  0]]\n",
      "INFO:tensorflow:Final test accuracy = 45.7% (N=46)\n"
     ]
    },
    {
     "ename": "SystemExit",
     "evalue": "",
     "output_type": "error",
     "traceback": [
      "An exception has occurred, use %tb to see the full traceback.\n",
      "\u001b[0;31mSystemExit\u001b[0m\n"
     ]
    },
    {
     "name": "stderr",
     "output_type": "stream",
     "text": [
      "/Users/kvajapey/miniconda3/lib/python3.6/site-packages/IPython/core/interactiveshell.py:2971: UserWarning: To exit: use 'exit', 'quit', or Ctrl-D.\n",
      "  warn(\"To exit: use 'exit', 'quit', or Ctrl-D.\", stacklevel=1)\n"
     ]
    }
   ],
   "source": [
    "\"\"\"\n",
    "This cell trains the first model for supervised learning\n",
    "\"\"\"\n",
    "run_training(ROOT_DATA + 'supervised_learning/train')"
   ]
  },
  {
   "cell_type": "code",
   "execution_count": 9,
   "metadata": {},
   "outputs": [
    {
     "name": "stdout",
     "output_type": "stream",
     "text": [
      "{'clip_duration_ms': 10000, 'clip_stride_ms': 30, 'feature_bin_count': 40, 'model_architecture': 'conv', 'output_file': 'supervised_1.pb', 'preprocess': 'mfcc', 'quantize': False, 'sample_rate': 48000, 'start_checkpoint': '/tmp/speech_commands_train/conv.ckpt-2', 'wanted_words': 'male,female', 'window_size_ms': 30.0, 'window_stride_ms': 10.0}\n",
      "INFO:tensorflow:Restoring parameters from /tmp/speech_commands_train/conv.ckpt-2\n",
      "INFO:tensorflow:Froze 6 variables.\n",
      "Converted 6 variables to const ops.\n",
      "INFO:tensorflow:Saved frozen graph to supervised_1.pb\n"
     ]
    }
   ],
   "source": [
    "\"\"\"\n",
    "This cell creates the first graph for supervised learning\n",
    "\"\"\"\n",
    "run_freeze('/tmp/speech_commands_train/conv.ckpt-2', 'supervised_1.pb')"
   ]
  },
  {
   "cell_type": "code",
   "execution_count": 10,
   "metadata": {},
   "outputs": [
    {
     "name": "stdout",
     "output_type": "stream",
     "text": [
      "{'wav_dir': '/Users/kvajapey/Documents/CrowdFlower/Conferences/Beijing/workshop/data/gender_detection//test/male', 'graph': 'supervised_1.pb', 'labels': '/tmp/speech_commands_train/conv_labels.txt', 'input_name': 'wav_data:0', 'output_name': 'labels_softmax:0', 'how_many_labels': 2}\n",
      "{'wav_dir': '/Users/kvajapey/Documents/CrowdFlower/Conferences/Beijing/workshop/data/gender_detection//test/female', 'graph': 'supervised_1.pb', 'labels': '/tmp/speech_commands_train/conv_labels.txt', 'input_name': 'wav_data:0', 'output_name': 'labels_softmax:0', 'how_many_labels': 2}\n"
     ]
    },
    {
     "data": {
      "text/plain": [
       "'Accuracy is 0.5128205128205128%'"
      ]
     },
     "execution_count": 10,
     "metadata": {},
     "output_type": "execute_result"
    }
   ],
   "source": [
    "\"\"\"\n",
    "This cell tests the accuracy of the first supervised learning model\n",
    "\"\"\"\n",
    "test('supervised_learning', ROOT_DATA + '/test', 'supervised_1.pb', '/tmp/speech_commands_train/conv_labels.txt')"
   ]
  },
  {
   "cell_type": "code",
   "execution_count": null,
   "metadata": {},
   "outputs": [],
   "source": []
  },
  {
   "cell_type": "markdown",
   "metadata": {},
   "source": [
    "Next you will run a series of supervised learning steps. Here you will run the following code add data to your training data and test the model to check how accuracy is improving. As you complete each round of training, you should run the test code to see how the model accuracy improves over time."
   ]
  },
  {
   "cell_type": "code",
   "execution_count": 50,
   "metadata": {},
   "outputs": [],
   "source": [
    "\"\"\"\n",
    "description: function for supervised learning.\n",
    "\"\"\"\n",
    "def supervised_learning_train():\n",
    "    random_seed_data('supervised_learning')\n",
    "    run_training(ROOT_DATA + 'supervised_learning/train')\n",
    "\n",
    "def supervised_learning_run():\n",
    "    run_freeze('/tmp/speech_commands_train/conv.ckpt-2', 'supervised_1.pb')\n",
    "    test('supervised_learning', ROOT_DATA + '/test', 'supervised_1.pb', '/tmp/speech_commands_train/conv_labels.txt')\n",
    "    plt.plot(CLASSIFIER_STATS['supervised_learning']['x'], CLASSIFIER_STATS['supervised_learning']['y'],'ro')\n",
    "    plt.show()\n",
    "    \n",
    "\n"
   ]
  },
  {
   "cell_type": "code",
   "execution_count": 53,
   "metadata": {
    "collapsed": true
   },
   "outputs": [
    {
     "name": "stdout",
     "output_type": "stream",
     "text": [
      "Male examples: 50\n",
      "Female examples: 50\n"
     ]
    },
    {
     "name": "stderr",
     "output_type": "stream",
     "text": [
      "/Users/kvajapey/miniconda3/lib/python3.6/site-packages/tensorflow/python/client/session.py:1711: UserWarning: An interactive session is already active. This can cause out-of-memory errors in some cases. You must explicitly call `InteractiveSession.close()` to release resources held by the other session(s).\n",
      "  warnings.warn('An interactive session is already active. This can '\n"
     ]
    },
    {
     "name": "stdout",
     "output_type": "stream",
     "text": [
      "INFO:tensorflow:Training from step: 1 \n",
      "INFO:tensorflow:Step #1: rate 0.001000, accuracy 45.0%, cross entropy 1.671158\n",
      "INFO:tensorflow:Step #2: rate 0.000100, accuracy 55.0%, cross entropy 1.195272\n",
      "INFO:tensorflow:Confusion Matrix:\n",
      " [[ 0  0  0  0]\n",
      " [ 0  0  0  0]\n",
      " [ 0  0  3  7]\n",
      " [ 0  0  3 11]]\n",
      "INFO:tensorflow:Step 2: Validation accuracy = 58.3% (N=24)\n",
      "INFO:tensorflow:Saving to \"/tmp/speech_commands_train/conv.ckpt-2\"\n",
      "INFO:tensorflow:set_size=33\n",
      "INFO:tensorflow:Confusion Matrix:\n",
      " [[ 0  0  0  0]\n",
      " [ 0  0  0  0]\n",
      " [ 0  0  2 13]\n",
      " [ 0  0  5 13]]\n",
      "INFO:tensorflow:Final test accuracy = 45.5% (N=33)\n"
     ]
    },
    {
     "ename": "SystemExit",
     "evalue": "",
     "output_type": "error",
     "traceback": [
      "An exception has occurred, use %tb to see the full traceback.\n",
      "\u001b[0;31mSystemExit\u001b[0m\n"
     ]
    },
    {
     "name": "stderr",
     "output_type": "stream",
     "text": [
      "/Users/kvajapey/miniconda3/lib/python3.6/site-packages/IPython/core/interactiveshell.py:2971: UserWarning: To exit: use 'exit', 'quit', or Ctrl-D.\n",
      "  warn(\"To exit: use 'exit', 'quit', or Ctrl-D.\", stacklevel=1)\n"
     ]
    }
   ],
   "source": [
    "\"\"\"\n",
    "Code to add training data and train a new model\n",
    "\"\"\"\n",
    "supervised_learning_train()"
   ]
  },
  {
   "cell_type": "code",
   "execution_count": 54,
   "metadata": {
    "collapsed": true
   },
   "outputs": [
    {
     "name": "stdout",
     "output_type": "stream",
     "text": [
      "{'clip_duration_ms': 10000, 'clip_stride_ms': 30, 'feature_bin_count': 40, 'model_architecture': 'conv', 'output_file': 'supervised_1.pb', 'preprocess': 'mfcc', 'quantize': False, 'sample_rate': 48000, 'start_checkpoint': '/tmp/speech_commands_train/conv.ckpt-2', 'wanted_words': 'male,female', 'window_size_ms': 30.0, 'window_stride_ms': 10.0}\n",
      "INFO:tensorflow:Restoring parameters from /tmp/speech_commands_train/conv.ckpt-2\n",
      "INFO:tensorflow:Froze 6 variables.\n",
      "Converted 6 variables to const ops.\n"
     ]
    },
    {
     "name": "stderr",
     "output_type": "stream",
     "text": [
      "/Users/kvajapey/miniconda3/lib/python3.6/site-packages/tensorflow/python/client/session.py:1711: UserWarning: An interactive session is already active. This can cause out-of-memory errors in some cases. You must explicitly call `InteractiveSession.close()` to release resources held by the other session(s).\n",
      "  warnings.warn('An interactive session is already active. This can '\n"
     ]
    },
    {
     "name": "stdout",
     "output_type": "stream",
     "text": [
      "INFO:tensorflow:Saved frozen graph to supervised_1.pb\n",
      "{'wav_dir': '/Users/kvajapey/Documents/CrowdFlower/Conferences/Beijing/workshop/data/gender_detection//test/male', 'graph': 'supervised_1.pb', 'labels': '/tmp/speech_commands_train/conv_labels.txt', 'input_name': 'wav_data:0', 'output_name': 'labels_softmax:0', 'how_many_labels': 2}\n",
      "{'wav_dir': '/Users/kvajapey/Documents/CrowdFlower/Conferences/Beijing/workshop/data/gender_detection//test/female', 'graph': 'supervised_1.pb', 'labels': '/tmp/speech_commands_train/conv_labels.txt', 'input_name': 'wav_data:0', 'output_name': 'labels_softmax:0', 'how_many_labels': 2}\n"
     ]
    },
    {
     "data": {
      "image/png": "[encoded data removed]",
      "text/plain": [
       "<Figure size 432x288 with 1 Axes>"
      ]
     },
     "metadata": {},
     "output_type": "display_data"
    }
   ],
   "source": [
    "\"\"\"\n",
    "Create the inference grapn and run a new test with plot\n",
    "\"\"\"\n",
    "supervised_learning_run()"
   ]
  },
  {
   "cell_type": "code",
   "execution_count": null,
   "metadata": {},
   "outputs": [],
   "source": []
  },
  {
   "cell_type": "markdown",
   "metadata": {},
   "source": [
    "#### Task: Run iterations of supervised learning and plot the accuracy of the model as more data is added"
   ]
  },
  {
   "cell_type": "code",
   "execution_count": 166,
   "metadata": {},
   "outputs": [],
   "source": [
    "# TODO: Write the code to run additional tests after each round of training\n",
    "# HINT: This is the same code used above to complete the first round of training"
   ]
  },
  {
   "cell_type": "markdown",
   "metadata": {},
   "source": [
    "# Exercise 1: Confidence Sampling\n",
    "In this exercise you will use confidence-based sampling. The goal is to create a query method that will rapidly increase the accuracy of your model with as little data as possible.\n",
    "\n",
    "The idea of confidence sampling is that you are making inferences on your initial classifier. Based on the confidence of these inferences you want to intelligently select which examples you want to add directly to your model and which samples you want to explicitly label.\n",
    "\n",
    "#### Task: Create a function that uses confidence sampling to select which examples should be manually labeled. Once these have been selected run them through the label function and create batches to be added to the classifier.\n",
    "\n",
    "#### NOTE: Make sure to run a preliminary test to get a baseline accuracy of your model"
   ]
  },
  {
   "cell_type": "code",
   "execution_count": 55,
   "metadata": {
    "collapsed": true
   },
   "outputs": [
    {
     "data": {
      "text/plain": [
       "'\\nRun preliminary test of classifier to get baseline accuracy\\nThis cell initialized the data for supervised learning strategy\\n'"
      ]
     },
     "execution_count": 55,
     "metadata": {},
     "output_type": "execute_result"
    }
   ],
   "source": [
    "\"\"\"\n",
    "Run preliminary test of classifier to get baseline accuracy\n",
    "This cell initialized the data for supervised learning strategy\n",
    "\"\"\"\n",
    "prep_query_strategy('confidence_sampling')\n",
    "random_seed_data('confidence_sampling')"
   ]
  },
  {
   "cell_type": "code",
   "execution_count": 91,
   "metadata": {},
   "outputs": [],
   "source": [
    "\"\"\"\n",
    "function: basic_confidence_sampling\n",
    "threshold (float): float between 0 and 1 for threshold to label images\n",
    "\"\"\"\n",
    "\n",
    "def confidence_sampling_train():\n",
    "    random_seed_data('confidence_sampling')\n",
    "    run_training(ROOT_DATA + 'confidence_sampling/train')\n",
    "\n",
    "\"\"\"\n",
    "EXAMPLE FOR CONFIDENCE SAMPLING QUERY STRATEGY\n",
    "def confidence_sampling_create_graph():\n",
    "    EXAMPLE CODE FOR CONFIDENCE SAMPLING\n",
    "    run_freeze('/tmp/speech_commands_train/conv.ckpt-2', 'confidence_sampling_1.pb')\n",
    "\n",
    "def confidence_sampling():\n",
    "    run_inference(ROOT_DATA + 'confidence_sampling/unlabeled', 'confidence_sampling_1.pb', '/tmp/speech_commands_train/conv_labels.txt')\n",
    "    data_to_label = []\n",
    "    for res in EXPERIMENT_RESULTS:\n",
    "        if res['female'] < 0.5 and res['male'] < 0.5:\n",
    "            data_to_label.append(res['filename'])\n",
    "    label_data('confidence_sampling', data_to_label)\n",
    "\n",
    "\"\"\""
   ]
  },
  {
   "cell_type": "code",
   "execution_count": null,
   "metadata": {},
   "outputs": [],
   "source": [
    "confidence_sampling_train()"
   ]
  },
  {
   "cell_type": "code",
   "execution_count": null,
   "metadata": {},
   "outputs": [],
   "source": [
    "confidence_sampling_create_graph()\n",
    "confidence_sampling()"
   ]
  },
  {
   "cell_type": "markdown",
   "metadata": {},
   "source": [
    "# Exercise 2: Margin Sampling\n",
    "In this exercise we will use margin sampling to train a third classifier. In margin sampling we want to look at the various predictions provided by the classifier and determine what threshold should be set in order to label the least number of images while getting the most performance gains out of the classifier.\n",
    "\n",
    "An example of margin sampling could be to manually label any item where the top two predictions are within 20% confidence of one another.\n",
    "\n",
    "For example:\n",
    "\n",
    "`\n",
    "Audio 1: {'male': 0.77, 'female': 0.73}\n",
    "`\n",
    "\n",
    "Here we can see that \"male\" and \"female\" are very close and we should get an explicit label to make it apparent which one we should use.\n",
    "\n",
    "#### NOTE: Make sure to run a preliminary test to get a baseline accuracy of your model"
   ]
  },
  {
   "cell_type": "code",
   "execution_count": null,
   "metadata": {},
   "outputs": [],
   "source": [
    "\"\"\"\n",
    "Run preliminary test of classifier to get baseline accuracy\n",
    "This cell initialized the data for supervised learning strategy\n",
    "\"\"\"\n",
    "prep_query_strategy('margin_sampling')\n",
    "random_seed_data('margin_sampling')"
   ]
  },
  {
   "cell_type": "code",
   "execution_count": 58,
   "metadata": {
    "collapsed": true
   },
   "outputs": [
    {
     "data": {
      "text/plain": [
       "\"\\nEXAMPLE FOR MARGIN SAMPLING QUERY STRATEGY\\ndef margin_sampling_create_graph():\\n    EXAMPLE CODE FOR CONFIDENCE SAMPLING\\n    run_freeze('/tmp/speech_commands_train/conv.ckpt-2', 'confidence_sampling_1.pb')\\n\\ndef margin_sampling():\\n    run_inference(ROOT_DATA + 'confidence_sampling/unlabeled', 'confidence_sampling_1.pb', '/tmp/speech_commands_train/conv_labels.txt')\\n    data_to_label = []\\n    for res in EXPERIMENT_RESULTS:\\n        # FILL IN QUERY STRATEGY HERE\\n    label_data('margin_sampling', data_to_label)\\n\\n\""
      ]
     },
     "execution_count": 58,
     "metadata": {},
     "output_type": "execute_result"
    }
   ],
   "source": [
    "def margin_sampling_train():\n",
    "    random_seed_data('margin_sampling')\n",
    "    run_training(ROOT_DATA + 'margin_sampling/train')\n",
    "\n",
    "\n",
    "\"\"\"\n",
    "EXAMPLE FOR MARGIN SAMPLING QUERY STRATEGY\n",
    "def margin_sampling_create_graph():\n",
    "    EXAMPLE CODE FOR CONFIDENCE SAMPLING\n",
    "    run_freeze('/tmp/speech_commands_train/conv.ckpt-2', 'confidence_sampling_1.pb')\n",
    "\n",
    "def margin_sampling():\n",
    "    run_inference(ROOT_DATA + 'confidence_sampling/unlabeled', 'confidence_sampling_1.pb', '/tmp/speech_commands_train/conv_labels.txt')\n",
    "    data_to_label = []\n",
    "    for res in EXPERIMENT_RESULTS:\n",
    "        # FILL IN QUERY STRATEGY HERE\n",
    "    label_data('margin_sampling', data_to_label)\n",
    "\n",
    "\"\"\""
   ]
  },
  {
   "cell_type": "code",
   "execution_count": null,
   "metadata": {},
   "outputs": [],
   "source": [
    "\"\"\"\n",
    "Write your code here to test your classifier after each round of training\n",
    "HINT: This is similar to the test and plot code bits used in previous exercises\n",
    "\"\"\""
   ]
  },
  {
   "cell_type": "markdown",
   "metadata": {},
   "source": [
    "# Exercise 3: Query by Committee\n",
    "In this exercise we want to create a query by committee strategy. You have a couple options.\n",
    "\n",
    "1. Use the three classifiers you trained above as your \"committee\" and update all classifiers\n",
    "2. Delete the three classifiers and create three new ones to be used for the query by committee.\n",
    "\n",
    "Three different intializer datasets are provided so feel free to use those to create your initial classifiers.\n",
    "\n",
    "#### NOTE: Make sure to run a preliminary test to get a baseline accuracy of your model"
   ]
  },
  {
   "cell_type": "code",
   "execution_count": 99,
   "metadata": {},
   "outputs": [],
   "source": [
    "def query_by_committee():\n",
    "    # TODO: Create a query by committee function.\n",
    "    # Like before the goal should be to create three zip files in this\n",
    "    # function that will be the training data to be added to the classifier\n",
    "    # Also after each round of training we want to run our test to see how\n",
    "    # the accuracy is improving."
   ]
  },
  {
   "cell_type": "code",
   "execution_count": null,
   "metadata": {},
   "outputs": [],
   "source": [
    "\"\"\"\n",
    "Write your code here to test your classifier after each round of training\n",
    "HINT: This is similar to the test and plot code bits used in previous exercises\n",
    "\"\"\""
   ]
  },
  {
   "cell_type": "markdown",
   "metadata": {},
   "source": [
    "# Exercise 4: Build your own\n",
    "In this exercise you will build your own query function using any of the methods used previous. This is where you should get creative and think about the best query strategy to train a model with the least amount of data.\n",
    "\n",
    "#### NOTE: Make sure to run a preliminary test to get a baseline accuracy of your model"
   ]
  },
  {
   "cell_type": "code",
   "execution_count": 169,
   "metadata": {},
   "outputs": [],
   "source": [
    "def my_strategy():\n",
    "    pass\n",
    "    # TODO: Fill in your custom query function here"
   ]
  },
  {
   "cell_type": "code",
   "execution_count": 170,
   "metadata": {
    "collapsed": true
   },
   "outputs": [
    {
     "data": {
      "text/plain": [
       "'\\nWrite your code here to test your classifier after each round of training\\nHINT: This is similar to the test and plot code bits used in previous exercises\\n'"
      ]
     },
     "execution_count": 170,
     "metadata": {},
     "output_type": "execute_result"
    }
   ],
   "source": [
    "\"\"\"\n",
    "Write your code here to test your classifier after each round of training\n",
    "HINT: This is similar to the test and plot code bits used in previous exercises\n",
    "\"\"\""
   ]
  },
  {
   "cell_type": "code",
   "execution_count": null,
   "metadata": {},
   "outputs": [],
   "source": []
  }
 ],
 "metadata": {
  "kernelspec": {
   "display_name": "active_learning",
   "language": "python",
   "name": "active_learning"
  },
  "language_info": {
   "codemirror_mode": {
    "name": "ipython",
    "version": 3
   },
   "file_extension": ".py",
   "mimetype": "text/x-python",
   "name": "python",
   "nbconvert_exporter": "python",
   "pygments_lexer": "ipython3",
   "version": "3.6.4"
  }
 },
 "nbformat": 4,
 "nbformat_minor": 2
}
